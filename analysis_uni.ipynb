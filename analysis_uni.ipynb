{
 "cells": [
  {
   "cell_type": "markdown",
   "id": "c3952f5b",
   "metadata": {},
   "source": [
    "# Data Analysis of Top-Ranking Universities"
   ]
  },
  {
   "cell_type": "markdown",
   "id": "79e4e804",
   "metadata": {},
   "source": [
    "## 1. Data Importing "
   ]
  },
  {
   "cell_type": "code",
   "execution_count": 20,
   "id": "5faabcf9",
   "metadata": {},
   "outputs": [],
   "source": [
    "import numpy as np \n",
    "import pandas as pd  \n",
    "import matplotlib.pyplot as plt\n",
    "import seaborn as sns\n",
    "import plotly.express as px"
   ]
  },
  {
   "cell_type": "code",
   "execution_count": 21,
   "id": "555073a2",
   "metadata": {},
   "outputs": [],
   "source": [
    "university_rank = pd.read_csv('shanghai_ranking_2024.csv')"
   ]
  },
  {
   "cell_type": "markdown",
   "id": "198048d1",
   "metadata": {},
   "source": [
    "## 2. Initial Exploration "
   ]
  },
  {
   "cell_type": "code",
   "execution_count": 22,
   "id": "e722730b",
   "metadata": {},
   "outputs": [
    {
     "data": {
      "text/html": [
       "<div>\n",
       "<style scoped>\n",
       "    .dataframe tbody tr th:only-of-type {\n",
       "        vertical-align: middle;\n",
       "    }\n",
       "\n",
       "    .dataframe tbody tr th {\n",
       "        vertical-align: top;\n",
       "    }\n",
       "\n",
       "    .dataframe thead th {\n",
       "        text-align: right;\n",
       "    }\n",
       "</style>\n",
       "<table border=\"1\" class=\"dataframe\">\n",
       "  <thead>\n",
       "    <tr style=\"text-align: right;\">\n",
       "      <th></th>\n",
       "      <th>Alumni</th>\n",
       "      <th>Award</th>\n",
       "      <th>Hici</th>\n",
       "      <th>N&amp;S</th>\n",
       "      <th>PUB</th>\n",
       "      <th>PCP</th>\n",
       "    </tr>\n",
       "  </thead>\n",
       "  <tbody>\n",
       "    <tr>\n",
       "      <th>count</th>\n",
       "      <td>1000.000000</td>\n",
       "      <td>1000.00000</td>\n",
       "      <td>1000.000000</td>\n",
       "      <td>989.000000</td>\n",
       "      <td>1000.000000</td>\n",
       "      <td>1000.000000</td>\n",
       "    </tr>\n",
       "    <tr>\n",
       "      <th>mean</th>\n",
       "      <td>4.509600</td>\n",
       "      <td>3.78120</td>\n",
       "      <td>10.734400</td>\n",
       "      <td>10.575126</td>\n",
       "      <td>35.113000</td>\n",
       "      <td>19.655300</td>\n",
       "    </tr>\n",
       "    <tr>\n",
       "      <th>std</th>\n",
       "      <td>10.103201</td>\n",
       "      <td>11.45538</td>\n",
       "      <td>10.949265</td>\n",
       "      <td>10.637247</td>\n",
       "      <td>13.684495</td>\n",
       "      <td>8.800436</td>\n",
       "    </tr>\n",
       "    <tr>\n",
       "      <th>min</th>\n",
       "      <td>0.000000</td>\n",
       "      <td>0.00000</td>\n",
       "      <td>0.000000</td>\n",
       "      <td>0.000000</td>\n",
       "      <td>9.300000</td>\n",
       "      <td>8.600000</td>\n",
       "    </tr>\n",
       "    <tr>\n",
       "      <th>25%</th>\n",
       "      <td>0.000000</td>\n",
       "      <td>0.00000</td>\n",
       "      <td>0.000000</td>\n",
       "      <td>3.900000</td>\n",
       "      <td>25.775000</td>\n",
       "      <td>14.100000</td>\n",
       "    </tr>\n",
       "    <tr>\n",
       "      <th>50%</th>\n",
       "      <td>0.000000</td>\n",
       "      <td>0.00000</td>\n",
       "      <td>9.200000</td>\n",
       "      <td>7.300000</td>\n",
       "      <td>31.700000</td>\n",
       "      <td>17.600000</td>\n",
       "    </tr>\n",
       "    <tr>\n",
       "      <th>75%</th>\n",
       "      <td>0.000000</td>\n",
       "      <td>0.00000</td>\n",
       "      <td>14.600000</td>\n",
       "      <td>13.300000</td>\n",
       "      <td>41.425000</td>\n",
       "      <td>23.000000</td>\n",
       "    </tr>\n",
       "    <tr>\n",
       "      <th>max</th>\n",
       "      <td>100.000000</td>\n",
       "      <td>100.00000</td>\n",
       "      <td>100.000000</td>\n",
       "      <td>100.000000</td>\n",
       "      <td>100.000000</td>\n",
       "      <td>100.000000</td>\n",
       "    </tr>\n",
       "  </tbody>\n",
       "</table>\n",
       "</div>"
      ],
      "text/plain": [
       "            Alumni       Award         Hici         N&S          PUB  \\\n",
       "count  1000.000000  1000.00000  1000.000000  989.000000  1000.000000   \n",
       "mean      4.509600     3.78120    10.734400   10.575126    35.113000   \n",
       "std      10.103201    11.45538    10.949265   10.637247    13.684495   \n",
       "min       0.000000     0.00000     0.000000    0.000000     9.300000   \n",
       "25%       0.000000     0.00000     0.000000    3.900000    25.775000   \n",
       "50%       0.000000     0.00000     9.200000    7.300000    31.700000   \n",
       "75%       0.000000     0.00000    14.600000   13.300000    41.425000   \n",
       "max     100.000000   100.00000   100.000000  100.000000   100.000000   \n",
       "\n",
       "               PCP  \n",
       "count  1000.000000  \n",
       "mean     19.655300  \n",
       "std       8.800436  \n",
       "min       8.600000  \n",
       "25%      14.100000  \n",
       "50%      17.600000  \n",
       "75%      23.000000  \n",
       "max     100.000000  "
      ]
     },
     "execution_count": 22,
     "metadata": {},
     "output_type": "execute_result"
    }
   ],
   "source": [
    "university_rank.describe()"
   ]
  },
  {
   "cell_type": "code",
   "execution_count": 23,
   "id": "04cc9760",
   "metadata": {},
   "outputs": [
    {
     "data": {
      "text/plain": [
       "Rank                       0\n",
       "University_Name            0\n",
       "National/Regional Rank     0\n",
       "Alumni                     0\n",
       "Award                      0\n",
       "Hici                       0\n",
       "N&S                       11\n",
       "PUB                        0\n",
       "PCP                        0\n",
       "dtype: int64"
      ]
     },
     "execution_count": 23,
     "metadata": {},
     "output_type": "execute_result"
    }
   ],
   "source": [
    "university_rank.isna().sum()"
   ]
  },
  {
   "cell_type": "markdown",
   "id": "46f6cf93",
   "metadata": {},
   "source": [
    "## 3. Data Cleaning "
   ]
  },
  {
   "cell_type": "code",
   "execution_count": 24,
   "id": "9fb4ad5d",
   "metadata": {},
   "outputs": [],
   "source": [
    "university_rank.dropna(axis=0, inplace=True)"
   ]
  },
  {
   "cell_type": "code",
   "execution_count": 25,
   "id": "97244bcc",
   "metadata": {},
   "outputs": [
    {
     "data": {
      "text/plain": [
       "Rank                      0\n",
       "University_Name           0\n",
       "National/Regional Rank    0\n",
       "Alumni                    0\n",
       "Award                     0\n",
       "Hici                      0\n",
       "N&S                       0\n",
       "PUB                       0\n",
       "PCP                       0\n",
       "dtype: int64"
      ]
     },
     "execution_count": 25,
     "metadata": {},
     "output_type": "execute_result"
    }
   ],
   "source": [
    "university_rank.isnull().sum()"
   ]
  },
  {
   "cell_type": "markdown",
   "id": "047daad0",
   "metadata": {},
   "source": [
    "## 4. Data Overview"
   ]
  },
  {
   "cell_type": "code",
   "execution_count": 26,
   "id": "f1cad7ea",
   "metadata": {},
   "outputs": [
    {
     "name": "stdout",
     "output_type": "stream",
     "text": [
      "<class 'pandas.core.frame.DataFrame'>\n",
      "Index: 989 entries, 0 to 999\n",
      "Data columns (total 9 columns):\n",
      " #   Column                  Non-Null Count  Dtype  \n",
      "---  ------                  --------------  -----  \n",
      " 0   Rank                    989 non-null    object \n",
      " 1   University_Name         989 non-null    object \n",
      " 2   National/Regional Rank  989 non-null    object \n",
      " 3   Alumni                  989 non-null    float64\n",
      " 4   Award                   989 non-null    float64\n",
      " 5   Hici                    989 non-null    float64\n",
      " 6   N&S                     989 non-null    float64\n",
      " 7   PUB                     989 non-null    float64\n",
      " 8   PCP                     989 non-null    float64\n",
      "dtypes: float64(6), object(3)\n",
      "memory usage: 77.3+ KB\n"
     ]
    }
   ],
   "source": [
    "university_rank.info()"
   ]
  },
  {
   "cell_type": "markdown",
   "id": "35999fed",
   "metadata": {},
   "source": [
    "## 5. Data Visualization (Bar graph)"
   ]
  },
  {
   "cell_type": "code",
   "execution_count": 70,
   "id": "a8f51947",
   "metadata": {},
   "outputs": [
    {
     "data": {
      "image/png": "[encoded data removed]",
      "text/plain": [
       "<Figure size 1300x800 with 1 Axes>"
      ]
     },
     "metadata": {},
     "output_type": "display_data"
    }
   ],
   "source": [
    "Alumni_top_ten = university_rank[['University_Name', 'Alumni']].sort_values(by='Alumni', ascending=False).head(10)\n",
    "\n",
    "# Set the figure size and style\n",
    "plt.figure(figsize=(13, 8))\n",
    "sns.set_style(\"whitegrid\")\n",
    "\n",
    "# Create a cool color palette using Blues\n",
    "palette = sns.color_palette(\"Oranges\", len(Alumni_top_ten ))\n",
    "\n",
    "# Create the bar plot\n",
    "barplot = sns.barplot(x='Alumni', y='University_Name', data=Alumni_top_ten, palette=palette)\n",
    "\n",
    "# Add titles and labels\n",
    "plt.title(\"Top 10 Universities by alumini\", fontsize=16, weight='bold')\n",
    "plt.xlabel('Alumni Score', fontsize=14)\n",
    "plt.ylabel('University Name', fontsize=14)\n",
    "\n",
    "# Enhance visibility of university names\n",
    "plt.yticks(fontsize=15, fontweight='bold') \n",
    "plt.xticks(fontsize=12) \n",
    "\n",
    "# Show the plot\n",
    "plt.tight_layout()\n",
    "plt.show()"
   ]
  },
  {
   "cell_type": "code",
   "execution_count": 72,
   "id": "610b8f4d",
   "metadata": {},
   "outputs": [
    {
     "data": {
      "image/png": "[encoded data removed]",
      "text/plain": [
       "<Figure size 1300x800 with 1 Axes>"
      ]
     },
     "metadata": {},
     "output_type": "display_data"
    }
   ],
   "source": [
    "Award_top_ten = university_rank[['University_Name', 'Award']].sort_values(by='Award', ascending=False).head(10)\n",
    "\n",
    "# Set the figure size and style\n",
    "plt.figure(figsize=(13, 8))\n",
    "sns.set_style(\"whitegrid\")\n",
    "\n",
    "# Create a cool color palette using Blues\n",
    "palette = sns.color_palette(\"Reds\", len(Award_top_ten))\n",
    "\n",
    "# Create the bar plot\n",
    "barplot = sns.barplot(x='Award', y='University_Name', data=Award_top_ten, palette=palette)\n",
    "\n",
    "# Add titles and labels\n",
    "plt.title(\"Top 10 Universities by award\", fontsize=16, weight='bold')\n",
    "plt.xlabel('Award Score', fontsize=14)\n",
    "plt.ylabel('University Name', fontsize=14)\n",
    "\n",
    "# Enhance visibility of university names\n",
    "plt.yticks(fontsize=15, fontweight='bold') \n",
    "plt.xticks(fontsize=12) \n",
    "\n",
    "# Show the plot\n",
    "plt.tight_layout()\n",
    "plt.show()"
   ]
  },
  {
   "cell_type": "code",
   "execution_count": 73,
   "id": "271fed21",
   "metadata": {},
   "outputs": [
    {
     "data": {
      "image/png": "[encoded data removed]",
      "text/plain": [
       "<Figure size 1300x800 with 1 Axes>"
      ]
     },
     "metadata": {},
     "output_type": "display_data"
    }
   ],
   "source": [
    "hici_top_ten = university_rank[['University_Name', 'Hici']].sort_values(by='Hici', ascending=False).head(10)\n",
    "\n",
    "# Set the figure size and style\n",
    "plt.figure(figsize=(13, 8))\n",
    "sns.set_style(\"whitegrid\")\n",
    "\n",
    "# Create a cool color palette using Blues\n",
    "palette = sns.color_palette(\"Blues\", len(hici_top_ten))\n",
    "\n",
    "# Create the bar plot\n",
    "barplot = sns.barplot(x='Hici', y='University_Name', data=hici_top_ten, palette=palette)\n",
    "\n",
    "# Add titles and labels\n",
    "plt.title(\"Top 10 Universities by Hici\", fontsize=16, weight='bold')\n",
    "plt.xlabel('Hici Score', fontsize=14)\n",
    "plt.ylabel('University Name', fontsize=14)\n",
    "\n",
    "# Enhance visibility of university names\n",
    "plt.yticks(fontsize=15, fontweight='bold') \n",
    "plt.xticks(fontsize=12) \n",
    "\n",
    "# Show the plot\n",
    "plt.tight_layout()\n",
    "plt.show()"
   ]
  },
  {
   "cell_type": "code",
   "execution_count": 32,
   "id": "4512df50",
   "metadata": {},
   "outputs": [
    {
     "data": {
      "image/png": "[encoded data removed]",
      "text/plain": [
       "<Figure size 1300x800 with 1 Axes>"
      ]
     },
     "metadata": {},
     "output_type": "display_data"
    }
   ],
   "source": [
    "ns_top_ten = university_rank[['University_Name', 'N&S']].sort_values(by='N&S', ascending=False).head(10)\n",
    "\n",
    "# Set the figure size and style\n",
    "plt.figure(figsize=(13, 8))\n",
    "sns.set_style(\"whitegrid\")\n",
    "\n",
    "# Create a different cool color palette using Greens\n",
    "palette = sns.color_palette(\"Greens\", len(ns_top_ten))\n",
    "\n",
    "# Create the bar plot\n",
    "barplot = sns.barplot(x='N&S', y='University_Name', data=ns_top_ten, palette=palette)\n",
    "\n",
    "# Add titles and labels\n",
    "plt.title(\"Top 10 Universities by N&S\", fontsize=16, weight='bold')\n",
    "plt.xlabel('N&S Score', fontsize=14)\n",
    "plt.ylabel('University Name', fontsize=14)\n",
    "\n",
    "# Enhance visibility of university names\n",
    "plt.yticks(fontsize=15, fontweight='bold') \n",
    "plt.xticks(fontsize=12) \n",
    "\n",
    "# Show the plot\n",
    "plt.tight_layout()\n",
    "plt.show()"
   ]
  },
  {
   "cell_type": "code",
   "execution_count": 75,
   "id": "457ddf5e",
   "metadata": {},
   "outputs": [
    {
     "data": {
      "image/png": "[encoded data removed]",
      "text/plain": [
       "<Figure size 1300x800 with 1 Axes>"
      ]
     },
     "metadata": {},
     "output_type": "display_data"
    }
   ],
   "source": [
    "pub_top_ten = university_rank[['University_Name', 'PUB']].sort_values(by='PUB', ascending=False).head(10)\n",
    "\n",
    "# Set the figure size and style\n",
    "plt.figure(figsize=(13, 8))\n",
    "sns.set_style(\"whitegrid\")\n",
    "\n",
    "# Create a different cool color palette using Oranges\n",
    "palette = sns.color_palette(\"Purples\", len(pub_top_ten))\n",
    "\n",
    "# Create the bar plot\n",
    "barplot = sns.barplot(x='PUB', y='University_Name', data=pub_top_ten, palette=palette)\n",
    "\n",
    "# Add titles and labels\n",
    "plt.title(\"Top 10 Universities by PUB\", fontsize=16, weight='bold')\n",
    "plt.xlabel('PUB Score', fontsize=14)  # Corrected label\n",
    "plt.ylabel('University Name', fontsize=14)\n",
    "\n",
    "# Enhance visibility of university names\n",
    "plt.yticks(fontsize=15, fontweight='bold') \n",
    "plt.xticks(fontsize=12) \n",
    "\n",
    "# Show the plot\n",
    "plt.tight_layout()\n",
    "plt.show()"
   ]
  },
  {
   "cell_type": "code",
   "execution_count": 74,
   "id": "1197bdca",
   "metadata": {},
   "outputs": [
    {
     "data": {
      "image/png": "[encoded data removed]",
      "text/plain": [
       "<Figure size 1300x800 with 1 Axes>"
      ]
     },
     "metadata": {},
     "output_type": "display_data"
    }
   ],
   "source": [
    "pcp_top_ten = university_rank[['University_Name', 'PCP']].sort_values(by='PCP', ascending=False).head(10)\n",
    "\n",
    "# Set the figure size and style\n",
    "plt.figure(figsize=(13, 8))\n",
    "sns.set_style(\"whitegrid\")\n",
    "\n",
    "# Create a different cool color palette using Purples\n",
    "palette = sns.color_palette(\"Greys\", len(pcp_top_ten))\n",
    "\n",
    "# Create the bar plot\n",
    "barplot = sns.barplot(x='PCP', y='University_Name', data=pcp_top_ten, palette=palette)\n",
    "\n",
    "# Add titles and labels\n",
    "plt.title(\"Top 10 Universities by PCP\", fontsize=16, weight='bold')\n",
    "plt.xlabel('PCP Score', fontsize=14)  # Correct label\n",
    "plt.ylabel('University Name', fontsize=14)\n",
    "\n",
    "# Enhance visibility of university names\n",
    "plt.yticks(fontsize=15, fontweight='bold') \n",
    "plt.xticks(fontsize=12) \n",
    "\n",
    "# Show the plot\n",
    "plt.tight_layout()\n",
    "plt.show()"
   ]
  },
  {
   "cell_type": "markdown",
   "id": "4cfcbd60",
   "metadata": {},
   "source": [
    "## 6. Data Visualization (Scatter plot Top 30 universities Aluminivs Award)"
   ]
  },
  {
   "cell_type": "code",
   "execution_count": 36,
   "id": "84067366",
   "metadata": {},
   "outputs": [
    {
     "data": {
      "application/vnd.plotly.v1+json": {
       "config": {
        "plotlyServerURL": "https://plot.ly"
       },
       "data": [
        {
         "hovertemplate": "<b>%{hovertext}</b><br><br>University_Name=Harvard University<br>Alumni=%{marker.size}<br>Award=%{y}<extra></extra>",
         "hovertext": [
          "Harvard University"
         ],
         "legendgroup": "Harvard University",
         "marker": {
          "color": "#636efa",
          "size": [
           100
          ],
          "sizemode": "area",
          "sizeref": 0.25,
          "symbol": "circle"
         },
         "mode": "markers",
         "name": "Harvard University",
         "orientation": "v",
         "showlegend": true,
         "type": "scatter",
         "x": [
          100
         ],
         "xaxis": "x",
         "y": [
          97.1
         ],
         "yaxis": "y"
        },
        {
         "hovertemplate": "<b>%{hovertext}</b><br><br>University_Name=University of Cambridge<br>Alumni=%{marker.size}<br>Award=%{y}<extra></extra>",
         "hovertext": [
          "University of Cambridge"
         ],
         "legendgroup": "University of Cambridge",
         "marker": {
          "color": "#EF553B",
          "size": [
           78.2
          ],
          "sizemode": "area",
          "sizeref": 0.25,
          "symbol": "circle"
         },
         "mode": "markers",
         "name": "University of Cambridge",
         "orientation": "v",
         "showlegend": true,
         "type": "scatter",
         "x": [
          78.2
         ],
         "xaxis": "x",
         "y": [
          90.8
         ],
         "yaxis": "y"
        },
        {
         "hovertemplate": "<b>%{hovertext}</b><br><br>University_Name=Massachusetts Institute of Technology (MIT)<br>Alumni=%{marker.size}<br>Award=%{y}<extra></extra>",
         "hovertext": [
          "Massachusetts Institute of Technology (MIT)"
         ],
         "legendgroup": "Massachusetts Institute of Technology (MIT)",
         "marker": {
          "color": "#00cc96",
          "size": [
           71.9
          ],
          "sizemode": "area",
          "sizeref": 0.25,
          "symbol": "circle"
         },
         "mode": "markers",
         "name": "Massachusetts Institute of Technology (MIT)",
         "orientation": "v",
         "showlegend": true,
         "type": "scatter",
         "x": [
          71.9
         ],
         "xaxis": "x",
         "y": [
          82.8
         ],
         "yaxis": "y"
        },
        {
         "hovertemplate": "<b>%{hovertext}</b><br><br>University_Name=University of California, Berkeley<br>Alumni=%{marker.size}<br>Award=%{y}<extra></extra>",
         "hovertext": [
          "University of California, Berkeley"
         ],
         "legendgroup": "University of California, Berkeley",
         "marker": {
          "color": "#ab63fa",
          "size": [
           65.3
          ],
          "sizemode": "area",
          "sizeref": 0.25,
          "symbol": "circle"
         },
         "mode": "markers",
         "name": "University of California, Berkeley",
         "orientation": "v",
         "showlegend": true,
         "type": "scatter",
         "x": [
          65.3
         ],
         "xaxis": "x",
         "y": [
          76.5
         ],
         "yaxis": "y"
        },
        {
         "hovertemplate": "<b>%{hovertext}</b><br><br>University_Name=Princeton University<br>Alumni=%{marker.size}<br>Award=%{y}<extra></extra>",
         "hovertext": [
          "Princeton University"
         ],
         "legendgroup": "Princeton University",
         "marker": {
          "color": "#FFA15A",
          "size": [
           61.2
          ],
          "sizemode": "area",
          "sizeref": 0.25,
          "symbol": "circle"
         },
         "mode": "markers",
         "name": "Princeton University",
         "orientation": "v",
         "showlegend": true,
         "type": "scatter",
         "x": [
          61.2
         ],
         "xaxis": "x",
         "y": [
          100
         ],
         "yaxis": "y"
        },
        {
         "hovertemplate": "<b>%{hovertext}</b><br><br>University_Name=Columbia University<br>Alumni=%{marker.size}<br>Award=%{y}<extra></extra>",
         "hovertext": [
          "Columbia University"
         ],
         "legendgroup": "Columbia University",
         "marker": {
          "color": "#19d3f3",
          "size": [
           59.4
          ],
          "sizemode": "area",
          "sizeref": 0.25,
          "symbol": "circle"
         },
         "mode": "markers",
         "name": "Columbia University",
         "orientation": "v",
         "showlegend": true,
         "type": "scatter",
         "x": [
          59.4
         ],
         "xaxis": "x",
         "y": [
          63.2
         ],
         "yaxis": "y"
        },
        {
         "hovertemplate": "<b>%{hovertext}</b><br><br>University_Name=University of Chicago<br>Alumni=%{marker.size}<br>Award=%{y}<extra></extra>",
         "hovertext": [
          "University of Chicago"
         ],
         "legendgroup": "University of Chicago",
         "marker": {
          "color": "#FF6692",
          "size": [
           59
          ],
          "sizemode": "area",
          "sizeref": 0.25,
          "symbol": "circle"
         },
         "mode": "markers",
         "name": "University of Chicago",
         "orientation": "v",
         "showlegend": true,
         "type": "scatter",
         "x": [
          59
         ],
         "xaxis": "x",
         "y": [
          84.5
         ],
         "yaxis": "y"
        },
        {
         "hovertemplate": "<b>%{hovertext}</b><br><br>University_Name=California Institute of Technology<br>Alumni=%{marker.size}<br>Award=%{y}<extra></extra>",
         "hovertext": [
          "California Institute of Technology"
         ],
         "legendgroup": "California Institute of Technology",
         "marker": {
          "color": "#B6E880",
          "size": [
           55.7
          ],
          "sizemode": "area",
          "sizeref": 0.25,
          "symbol": "circle"
         },
         "mode": "markers",
         "name": "California Institute of Technology",
         "orientation": "v",
         "showlegend": true,
         "type": "scatter",
         "x": [
          55.7
         ],
         "xaxis": "x",
         "y": [
          63.4
         ],
         "yaxis": "y"
        },
        {
         "hovertemplate": "<b>%{hovertext}</b><br><br>University_Name=Yale University<br>Alumni=%{marker.size}<br>Award=%{y}<extra></extra>",
         "hovertext": [
          "Yale University"
         ],
         "legendgroup": "Yale University",
         "marker": {
          "color": "#FF97FF",
          "size": [
           50.3
          ],
          "sizemode": "area",
          "sizeref": 0.25,
          "symbol": "circle"
         },
         "mode": "markers",
         "name": "Yale University",
         "orientation": "v",
         "showlegend": true,
         "type": "scatter",
         "x": [
          50.3
         ],
         "xaxis": "x",
         "y": [
          49.6
         ],
         "yaxis": "y"
        },
        {
         "hovertemplate": "<b>%{hovertext}</b><br><br>University_Name=PSL University<br>Alumni=%{marker.size}<br>Award=%{y}<extra></extra>",
         "hovertext": [
          "PSL University"
         ],
         "legendgroup": "PSL University",
         "marker": {
          "color": "#FECB52",
          "size": [
           50.3
          ],
          "sizemode": "area",
          "sizeref": 0.25,
          "symbol": "circle"
         },
         "mode": "markers",
         "name": "PSL University",
         "orientation": "v",
         "showlegend": true,
         "type": "scatter",
         "x": [
          50.3
         ],
         "xaxis": "x",
         "y": [
          45.1
         ],
         "yaxis": "y"
        },
        {
         "hovertemplate": "<b>%{hovertext}</b><br><br>University_Name=University of Oxford<br>Alumni=%{marker.size}<br>Award=%{y}<extra></extra>",
         "hovertext": [
          "University of Oxford"
         ],
         "legendgroup": "University of Oxford",
         "marker": {
          "color": "#636efa",
          "size": [
           49.5
          ],
          "sizemode": "area",
          "sizeref": 0.25,
          "symbol": "circle"
         },
         "mode": "markers",
         "name": "University of Oxford",
         "orientation": "v",
         "showlegend": true,
         "type": "scatter",
         "x": [
          49.5
         ],
         "xaxis": "x",
         "y": [
          59.7
         ],
         "yaxis": "y"
        },
        {
         "hovertemplate": "<b>%{hovertext}</b><br><br>University_Name=Stanford University<br>Alumni=%{marker.size}<br>Award=%{y}<extra></extra>",
         "hovertext": [
          "Stanford University"
         ],
         "legendgroup": "Stanford University",
         "marker": {
          "color": "#EF553B",
          "size": [
           45.3
          ],
          "sizemode": "area",
          "sizeref": 0.25,
          "symbol": "circle"
         },
         "mode": "markers",
         "name": "Stanford University",
         "orientation": "v",
         "showlegend": true,
         "type": "scatter",
         "x": [
          45.3
         ],
         "xaxis": "x",
         "y": [
          88.1
         ],
         "yaxis": "y"
        },
        {
         "hovertemplate": "<b>%{hovertext}</b><br><br>University_Name=Cornell University<br>Alumni=%{marker.size}<br>Award=%{y}<extra></extra>",
         "hovertext": [
          "Cornell University"
         ],
         "legendgroup": "Cornell University",
         "marker": {
          "color": "#00cc96",
          "size": [
           42.2
          ],
          "sizemode": "area",
          "sizeref": 0.25,
          "symbol": "circle"
         },
         "mode": "markers",
         "name": "Cornell University",
         "orientation": "v",
         "showlegend": true,
         "type": "scatter",
         "x": [
          42.2
         ],
         "xaxis": "x",
         "y": [
          44.2
         ],
         "yaxis": "y"
        },
        {
         "hovertemplate": "<b>%{hovertext}</b><br><br>University_Name=Sorbonne University<br>Alumni=%{marker.size}<br>Award=%{y}<extra></extra>",
         "hovertext": [
          "Sorbonne University"
         ],
         "legendgroup": "Sorbonne University",
         "marker": {
          "color": "#ab63fa",
          "size": [
           38.6
          ],
          "sizemode": "area",
          "sizeref": 0.25,
          "symbol": "circle"
         },
         "mode": "markers",
         "name": "Sorbonne University",
         "orientation": "v",
         "showlegend": true,
         "type": "scatter",
         "x": [
          38.6
         ],
         "xaxis": "x",
         "y": [
          23.4
         ],
         "yaxis": "y"
        },
        {
         "hovertemplate": "<b>%{hovertext}</b><br><br>University_Name=Moscow State University<br>Alumni=%{marker.size}<br>Award=%{y}<extra></extra>",
         "hovertext": [
          "Moscow State University"
         ],
         "legendgroup": "Moscow State University",
         "marker": {
          "color": "#FFA15A",
          "size": [
           37.8
          ],
          "sizemode": "area",
          "sizeref": 0.25,
          "symbol": "circle"
         },
         "mode": "markers",
         "name": "Moscow State University",
         "orientation": "v",
         "showlegend": true,
         "type": "scatter",
         "x": [
          37.8
         ],
         "xaxis": "x",
         "y": [
          29.1
         ],
         "yaxis": "y"
        },
        {
         "hovertemplate": "<b>%{hovertext}</b><br><br>University_Name=University of Geneva<br>Alumni=%{marker.size}<br>Award=%{y}<extra></extra>",
         "hovertext": [
          "University of Geneva"
         ],
         "legendgroup": "University of Geneva",
         "marker": {
          "color": "#19d3f3",
          "size": [
           37.4
          ],
          "sizemode": "area",
          "sizeref": 0.25,
          "symbol": "circle"
         },
         "mode": "markers",
         "name": "University of Geneva",
         "orientation": "v",
         "showlegend": true,
         "type": "scatter",
         "x": [
          37.4
         ],
         "xaxis": "x",
         "y": [
          37.3
         ],
         "yaxis": "y"
        },
        {
         "hovertemplate": "<b>%{hovertext}</b><br><br>University_Name=University of Michigan-Ann Arbor<br>Alumni=%{marker.size}<br>Award=%{y}<extra></extra>",
         "hovertext": [
          "University of Michigan-Ann Arbor"
         ],
         "legendgroup": "University of Michigan-Ann Arbor",
         "marker": {
          "color": "#FF6692",
          "size": [
           37.1
          ],
          "sizemode": "area",
          "sizeref": 0.25,
          "symbol": "circle"
         },
         "mode": "markers",
         "name": "University of Michigan-Ann Arbor",
         "orientation": "v",
         "showlegend": true,
         "type": "scatter",
         "x": [
          37.1
         ],
         "xaxis": "x",
         "y": [
          9.8
         ],
         "yaxis": "y"
        },
        {
         "hovertemplate": "<b>%{hovertext}</b><br><br>University_Name=Paris-Saclay University<br>Alumni=%{marker.size}<br>Award=%{y}<extra></extra>",
         "hovertext": [
          "Paris-Saclay University"
         ],
         "legendgroup": "Paris-Saclay University",
         "marker": {
          "color": "#B6E880",
          "size": [
           36.9
          ],
          "sizemode": "area",
          "sizeref": 0.25,
          "symbol": "circle"
         },
         "mode": "markers",
         "name": "Paris-Saclay University",
         "orientation": "v",
         "showlegend": true,
         "type": "scatter",
         "x": [
          36.9
         ],
         "xaxis": "x",
         "y": [
          73.8
         ],
         "yaxis": "y"
        },
        {
         "hovertemplate": "<b>%{hovertext}</b><br><br>University_Name=The University of Tokyo<br>Alumni=%{marker.size}<br>Award=%{y}<extra></extra>",
         "hovertext": [
          "The University of Tokyo"
         ],
         "legendgroup": "The University of Tokyo",
         "marker": {
          "color": "#FF97FF",
          "size": [
           36.3
          ],
          "sizemode": "area",
          "sizeref": 0.25,
          "symbol": "circle"
         },
         "mode": "markers",
         "name": "The University of Tokyo",
         "orientation": "v",
         "showlegend": true,
         "type": "scatter",
         "x": [
          36.3
         ],
         "xaxis": "x",
         "y": [
          23.5
         ],
         "yaxis": "y"
        },
        {
         "hovertemplate": "<b>%{hovertext}</b><br><br>University_Name=Johns Hopkins University<br>Alumni=%{marker.size}<br>Award=%{y}<extra></extra>",
         "hovertext": [
          "Johns Hopkins University"
         ],
         "legendgroup": "Johns Hopkins University",
         "marker": {
          "color": "#FECB52",
          "size": [
           34
          ],
          "sizemode": "area",
          "sizeref": 0.25,
          "symbol": "circle"
         },
         "mode": "markers",
         "name": "Johns Hopkins University",
         "orientation": "v",
         "showlegend": true,
         "type": "scatter",
         "x": [
          34
         ],
         "xaxis": "x",
         "y": [
          34.6
         ],
         "yaxis": "y"
        },
        {
         "hovertemplate": "<b>%{hovertext}</b><br><br>University_Name=Technical University of Munich<br>Alumni=%{marker.size}<br>Award=%{y}<extra></extra>",
         "hovertext": [
          "Technical University of Munich"
         ],
         "legendgroup": "Technical University of Munich",
         "marker": {
          "color": "#636efa",
          "size": [
           34
          ],
          "sizemode": "area",
          "sizeref": 0.25,
          "symbol": "circle"
         },
         "mode": "markers",
         "name": "Technical University of Munich",
         "orientation": "v",
         "showlegend": true,
         "type": "scatter",
         "x": [
          34
         ],
         "xaxis": "x",
         "y": [
          17.2
         ],
         "yaxis": "y"
        },
        {
         "hovertemplate": "<b>%{hovertext}</b><br><br>University_Name=Kyoto University<br>Alumni=%{marker.size}<br>Award=%{y}<extra></extra>",
         "hovertext": [
          "Kyoto University"
         ],
         "legendgroup": "Kyoto University",
         "marker": {
          "color": "#EF553B",
          "size": [
           33.6
          ],
          "sizemode": "area",
          "sizeref": 0.25,
          "symbol": "circle"
         },
         "mode": "markers",
         "name": "Kyoto University",
         "orientation": "v",
         "showlegend": true,
         "type": "scatter",
         "x": [
          33.6
         ],
         "xaxis": "x",
         "y": [
          38.8
         ],
         "yaxis": "y"
        },
        {
         "hovertemplate": "<b>%{hovertext}</b><br><br>University_Name=University of Pennsylvania<br>Alumni=%{marker.size}<br>Award=%{y}<extra></extra>",
         "hovertext": [
          "University of Pennsylvania"
         ],
         "legendgroup": "University of Pennsylvania",
         "marker": {
          "color": "#00cc96",
          "size": [
           32
          ],
          "sizemode": "area",
          "sizeref": 0.25,
          "symbol": "circle"
         },
         "mode": "markers",
         "name": "University of Pennsylvania",
         "orientation": "v",
         "showlegend": true,
         "type": "scatter",
         "x": [
          32
         ],
         "xaxis": "x",
         "y": [
          39.6
         ],
         "yaxis": "y"
        },
        {
         "hovertemplate": "<b>%{hovertext}</b><br><br>University_Name=Goethe University Frankfurt<br>Alumni=%{marker.size}<br>Award=%{y}<extra></extra>",
         "hovertext": [
          "Goethe University Frankfurt"
         ],
         "legendgroup": "Goethe University Frankfurt",
         "marker": {
          "color": "#ab63fa",
          "size": [
           31.6
          ],
          "sizemode": "area",
          "sizeref": 0.25,
          "symbol": "circle"
         },
         "mode": "markers",
         "name": "Goethe University Frankfurt",
         "orientation": "v",
         "showlegend": true,
         "type": "scatter",
         "x": [
          31.6
         ],
         "xaxis": "x",
         "y": [
          0
         ],
         "yaxis": "y"
        },
        {
         "hovertemplate": "<b>%{hovertext}</b><br><br>University_Name=University of Rochester<br>Alumni=%{marker.size}<br>Award=%{y}<extra></extra>",
         "hovertext": [
          "University of Rochester"
         ],
         "legendgroup": "University of Rochester",
         "marker": {
          "color": "#FFA15A",
          "size": [
           30.7
          ],
          "sizemode": "area",
          "sizeref": 0.25,
          "symbol": "circle"
         },
         "mode": "markers",
         "name": "University of Rochester",
         "orientation": "v",
         "showlegend": true,
         "type": "scatter",
         "x": [
          30.7
         ],
         "xaxis": "x",
         "y": [
          5.3
         ],
         "yaxis": "y"
        },
        {
         "hovertemplate": "<b>%{hovertext}</b><br><br>University_Name=University of Bonn<br>Alumni=%{marker.size}<br>Award=%{y}<extra></extra>",
         "hovertext": [
          "University of Bonn"
         ],
         "legendgroup": "University of Bonn",
         "marker": {
          "color": "#19d3f3",
          "size": [
           30.3
          ],
          "sizemode": "area",
          "sizeref": 0.25,
          "symbol": "circle"
         },
         "mode": "markers",
         "name": "University of Bonn",
         "orientation": "v",
         "showlegend": true,
         "type": "scatter",
         "x": [
          30.3
         ],
         "xaxis": "x",
         "y": [
          33
         ],
         "yaxis": "y"
        },
        {
         "hovertemplate": "<b>%{hovertext}</b><br><br>University_Name=University of California, Los Angeles<br>Alumni=%{marker.size}<br>Award=%{y}<extra></extra>",
         "hovertext": [
          "University of California, Los Angeles"
         ],
         "legendgroup": "University of California, Los Angeles",
         "marker": {
          "color": "#FF6692",
          "size": [
           29.8
          ],
          "sizemode": "area",
          "sizeref": 0.25,
          "symbol": "circle"
         },
         "mode": "markers",
         "name": "University of California, Los Angeles",
         "orientation": "v",
         "showlegend": true,
         "type": "scatter",
         "x": [
          29.8
         ],
         "xaxis": "x",
         "y": [
          45
         ],
         "yaxis": "y"
        },
        {
         "hovertemplate": "<b>%{hovertext}</b><br><br>University_Name=The Hebrew University of Jerusalem<br>Alumni=%{marker.size}<br>Award=%{y}<extra></extra>",
         "hovertext": [
          "The Hebrew University of Jerusalem"
         ],
         "legendgroup": "The Hebrew University of Jerusalem",
         "marker": {
          "color": "#B6E880",
          "size": [
           29.8
          ],
          "sizemode": "area",
          "sizeref": 0.25,
          "symbol": "circle"
         },
         "mode": "markers",
         "name": "The Hebrew University of Jerusalem",
         "orientation": "v",
         "showlegend": true,
         "type": "scatter",
         "x": [
          29.8
         ],
         "xaxis": "x",
         "y": [
          26.1
         ],
         "yaxis": "y"
        },
        {
         "hovertemplate": "<b>%{hovertext}</b><br><br>University_Name=Case Western Reserve University<br>Alumni=%{marker.size}<br>Award=%{y}<extra></extra>",
         "hovertext": [
          "Case Western Reserve University"
         ],
         "legendgroup": "Case Western Reserve University",
         "marker": {
          "color": "#FF97FF",
          "size": [
           29.8
          ],
          "sizemode": "area",
          "sizeref": 0.25,
          "symbol": "circle"
         },
         "mode": "markers",
         "name": "Case Western Reserve University",
         "orientation": "v",
         "showlegend": true,
         "type": "scatter",
         "x": [
          29.8
         ],
         "xaxis": "x",
         "y": [
          9.2
         ],
         "yaxis": "y"
        },
        {
         "hovertemplate": "<b>%{hovertext}</b><br><br>University_Name=McGill University<br>Alumni=%{marker.size}<br>Award=%{y}<extra></extra>",
         "hovertext": [
          "McGill University"
         ],
         "legendgroup": "McGill University",
         "marker": {
          "color": "#FECB52",
          "size": [
           29.4
          ],
          "sizemode": "area",
          "sizeref": 0.25,
          "symbol": "circle"
         },
         "mode": "markers",
         "name": "McGill University",
         "orientation": "v",
         "showlegend": true,
         "type": "scatter",
         "x": [
          29.4
         ],
         "xaxis": "x",
         "y": [
          0
         ],
         "yaxis": "y"
        }
       ],
       "layout": {
        "font": {
         "size": 12
        },
        "legend": {
         "itemsizing": "constant",
         "title": {
          "text": "University"
         },
         "tracegroupgap": 0
        },
        "template": {
         "data": {
          "bar": [
           {
            "error_x": {
             "color": "#2a3f5f"
            },
            "error_y": {
             "color": "#2a3f5f"
            },
            "marker": {
             "line": {
              "color": "#E5ECF6",
              "width": 0.5
             },
             "pattern": {
              "fillmode": "overlay",
              "size": 10,
              "solidity": 0.2
             }
            },
            "type": "bar"
           }
          ],
          "barpolar": [
           {
            "marker": {
             "line": {
              "color": "#E5ECF6",
              "width": 0.5
             },
             "pattern": {
              "fillmode": "overlay",
              "size": 10,
              "solidity": 0.2
             }
            },
            "type": "barpolar"
           }
          ],
          "carpet": [
           {
            "aaxis": {
             "endlinecolor": "#2a3f5f",
             "gridcolor": "white",
             "linecolor": "white",
             "minorgridcolor": "white",
             "startlinecolor": "#2a3f5f"
            },
            "baxis": {
             "endlinecolor": "#2a3f5f",
             "gridcolor": "white",
             "linecolor": "white",
             "minorgridcolor": "white",
             "startlinecolor": "#2a3f5f"
            },
            "type": "carpet"
           }
          ],
          "choropleth": [
           {
            "colorbar": {
             "outlinewidth": 0,
             "ticks": ""
            },
            "type": "choropleth"
           }
          ],
          "contour": [
           {
            "colorbar": {
             "outlinewidth": 0,
             "ticks": ""
            },
            "colorscale": [
             [
              0,
              "#0d0887"
             ],
             [
              0.1111111111111111,
              "#46039f"
             ],
             [
              0.2222222222222222,
              "#7201a8"
             ],
             [
              0.3333333333333333,
              "#9c179e"
             ],
             [
              0.4444444444444444,
              "#bd3786"
             ],
             [
              0.5555555555555556,
              "#d8576b"
             ],
             [
              0.6666666666666666,
              "#ed7953"
             ],
             [
              0.7777777777777778,
              "#fb9f3a"
             ],
             [
              0.8888888888888888,
              "#fdca26"
             ],
             [
              1,
              "#f0f921"
             ]
            ],
            "type": "contour"
           }
          ],
          "contourcarpet": [
           {
            "colorbar": {
             "outlinewidth": 0,
             "ticks": ""
            },
            "type": "contourcarpet"
           }
          ],
          "heatmap": [
           {
            "colorbar": {
             "outlinewidth": 0,
             "ticks": ""
            },
            "colorscale": [
             [
              0,
              "#0d0887"
             ],
             [
              0.1111111111111111,
              "#46039f"
             ],
             [
              0.2222222222222222,
              "#7201a8"
             ],
             [
              0.3333333333333333,
              "#9c179e"
             ],
             [
              0.4444444444444444,
              "#bd3786"
             ],
             [
              0.5555555555555556,
              "#d8576b"
             ],
             [
              0.6666666666666666,
              "#ed7953"
             ],
             [
              0.7777777777777778,
              "#fb9f3a"
             ],
             [
              0.8888888888888888,
              "#fdca26"
             ],
             [
              1,
              "#f0f921"
             ]
            ],
            "type": "heatmap"
           }
          ],
          "heatmapgl": [
           {
            "colorbar": {
             "outlinewidth": 0,
             "ticks": ""
            },
            "colorscale": [
             [
              0,
              "#0d0887"
             ],
             [
              0.1111111111111111,
              "#46039f"
             ],
             [
              0.2222222222222222,
              "#7201a8"
             ],
             [
              0.3333333333333333,
              "#9c179e"
             ],
             [
              0.4444444444444444,
              "#bd3786"
             ],
             [
              0.5555555555555556,
              "#d8576b"
             ],
             [
              0.6666666666666666,
              "#ed7953"
             ],
             [
              0.7777777777777778,
              "#fb9f3a"
             ],
             [
              0.8888888888888888,
              "#fdca26"
             ],
             [
              1,
              "#f0f921"
             ]
            ],
            "type": "heatmapgl"
           }
          ],
          "histogram": [
           {
            "marker": {
             "pattern": {
              "fillmode": "overlay",
              "size": 10,
              "solidity": 0.2
             }
            },
            "type": "histogram"
           }
          ],
          "histogram2d": [
           {
            "colorbar": {
             "outlinewidth": 0,
             "ticks": ""
            },
            "colorscale": [
             [
              0,
              "#0d0887"
             ],
             [
              0.1111111111111111,
              "#46039f"
             ],
             [
              0.2222222222222222,
              "#7201a8"
             ],
             [
              0.3333333333333333,
              "#9c179e"
             ],
             [
              0.4444444444444444,
              "#bd3786"
             ],
             [
              0.5555555555555556,
              "#d8576b"
             ],
             [
              0.6666666666666666,
              "#ed7953"
             ],
             [
              0.7777777777777778,
              "#fb9f3a"
             ],
             [
              0.8888888888888888,
              "#fdca26"
             ],
             [
              1,
              "#f0f921"
             ]
            ],
            "type": "histogram2d"
           }
          ],
          "histogram2dcontour": [
           {
            "colorbar": {
             "outlinewidth": 0,
             "ticks": ""
            },
            "colorscale": [
             [
              0,
              "#0d0887"
             ],
             [
              0.1111111111111111,
              "#46039f"
             ],
             [
              0.2222222222222222,
              "#7201a8"
             ],
             [
              0.3333333333333333,
              "#9c179e"
             ],
             [
              0.4444444444444444,
              "#bd3786"
             ],
             [
              0.5555555555555556,
              "#d8576b"
             ],
             [
              0.6666666666666666,
              "#ed7953"
             ],
             [
              0.7777777777777778,
              "#fb9f3a"
             ],
             [
              0.8888888888888888,
              "#fdca26"
             ],
             [
              1,
              "#f0f921"
             ]
            ],
            "type": "histogram2dcontour"
           }
          ],
          "mesh3d": [
           {
            "colorbar": {
             "outlinewidth": 0,
             "ticks": ""
            },
            "type": "mesh3d"
           }
          ],
          "parcoords": [
           {
            "line": {
             "colorbar": {
              "outlinewidth": 0,
              "ticks": ""
             }
            },
            "type": "parcoords"
           }
          ],
          "pie": [
           {
            "automargin": true,
            "type": "pie"
           }
          ],
          "scatter": [
           {
            "fillpattern": {
             "fillmode": "overlay",
             "size": 10,
             "solidity": 0.2
            },
            "type": "scatter"
           }
          ],
          "scatter3d": [
           {
            "line": {
             "colorbar": {
              "outlinewidth": 0,
              "ticks": ""
             }
            },
            "marker": {
             "colorbar": {
              "outlinewidth": 0,
              "ticks": ""
             }
            },
            "type": "scatter3d"
           }
          ],
          "scattercarpet": [
           {
            "marker": {
             "colorbar": {
              "outlinewidth": 0,
              "ticks": ""
             }
            },
            "type": "scattercarpet"
           }
          ],
          "scattergeo": [
           {
            "marker": {
             "colorbar": {
              "outlinewidth": 0,
              "ticks": ""
             }
            },
            "type": "scattergeo"
           }
          ],
          "scattergl": [
           {
            "marker": {
             "colorbar": {
              "outlinewidth": 0,
              "ticks": ""
             }
            },
            "type": "scattergl"
           }
          ],
          "scattermapbox": [
           {
            "marker": {
             "colorbar": {
              "outlinewidth": 0,
              "ticks": ""
             }
            },
            "type": "scattermapbox"
           }
          ],
          "scatterpolar": [
           {
            "marker": {
             "colorbar": {
              "outlinewidth": 0,
              "ticks": ""
             }
            },
            "type": "scatterpolar"
           }
          ],
          "scatterpolargl": [
           {
            "marker": {
             "colorbar": {
              "outlinewidth": 0,
              "ticks": ""
             }
            },
            "type": "scatterpolargl"
           }
          ],
          "scatterternary": [
           {
            "marker": {
             "colorbar": {
              "outlinewidth": 0,
              "ticks": ""
             }
            },
            "type": "scatterternary"
           }
          ],
          "surface": [
           {
            "colorbar": {
             "outlinewidth": 0,
             "ticks": ""
            },
            "colorscale": [
             [
              0,
              "#0d0887"
             ],
             [
              0.1111111111111111,
              "#46039f"
             ],
             [
              0.2222222222222222,
              "#7201a8"
             ],
             [
              0.3333333333333333,
              "#9c179e"
             ],
             [
              0.4444444444444444,
              "#bd3786"
             ],
             [
              0.5555555555555556,
              "#d8576b"
             ],
             [
              0.6666666666666666,
              "#ed7953"
             ],
             [
              0.7777777777777778,
              "#fb9f3a"
             ],
             [
              0.8888888888888888,
              "#fdca26"
             ],
             [
              1,
              "#f0f921"
             ]
            ],
            "type": "surface"
           }
          ],
          "table": [
           {
            "cells": {
             "fill": {
              "color": "#EBF0F8"
             },
             "line": {
              "color": "white"
             }
            },
            "header": {
             "fill": {
              "color": "#C8D4E3"
             },
             "line": {
              "color": "white"
             }
            },
            "type": "table"
           }
          ]
         },
         "layout": {
          "annotationdefaults": {
           "arrowcolor": "#2a3f5f",
           "arrowhead": 0,
           "arrowwidth": 1
          },
          "autotypenumbers": "strict",
          "coloraxis": {
           "colorbar": {
            "outlinewidth": 0,
            "ticks": ""
           }
          },
          "colorscale": {
           "diverging": [
            [
             0,
             "#8e0152"
            ],
            [
             0.1,
             "#c51b7d"
            ],
            [
             0.2,
             "#de77ae"
            ],
            [
             0.3,
             "#f1b6da"
            ],
            [
             0.4,
             "#fde0ef"
            ],
            [
             0.5,
             "#f7f7f7"
            ],
            [
             0.6,
             "#e6f5d0"
            ],
            [
             0.7,
             "#b8e186"
            ],
            [
             0.8,
             "#7fbc41"
            ],
            [
             0.9,
             "#4d9221"
            ],
            [
             1,
             "#276419"
            ]
           ],
           "sequential": [
            [
             0,
             "#0d0887"
            ],
            [
             0.1111111111111111,
             "#46039f"
            ],
            [
             0.2222222222222222,
             "#7201a8"
            ],
            [
             0.3333333333333333,
             "#9c179e"
            ],
            [
             0.4444444444444444,
             "#bd3786"
            ],
            [
             0.5555555555555556,
             "#d8576b"
            ],
            [
             0.6666666666666666,
             "#ed7953"
            ],
            [
             0.7777777777777778,
             "#fb9f3a"
            ],
            [
             0.8888888888888888,
             "#fdca26"
            ],
            [
             1,
             "#f0f921"
            ]
           ],
           "sequentialminus": [
            [
             0,
             "#0d0887"
            ],
            [
             0.1111111111111111,
             "#46039f"
            ],
            [
             0.2222222222222222,
             "#7201a8"
            ],
            [
             0.3333333333333333,
             "#9c179e"
            ],
            [
             0.4444444444444444,
             "#bd3786"
            ],
            [
             0.5555555555555556,
             "#d8576b"
            ],
            [
             0.6666666666666666,
             "#ed7953"
            ],
            [
             0.7777777777777778,
             "#fb9f3a"
            ],
            [
             0.8888888888888888,
             "#fdca26"
            ],
            [
             1,
             "#f0f921"
            ]
           ]
          },
          "colorway": [
           "#636efa",
           "#EF553B",
           "#00cc96",
           "#ab63fa",
           "#FFA15A",
           "#19d3f3",
           "#FF6692",
           "#B6E880",
           "#FF97FF",
           "#FECB52"
          ],
          "font": {
           "color": "#2a3f5f"
          },
          "geo": {
           "bgcolor": "white",
           "lakecolor": "white",
           "landcolor": "#E5ECF6",
           "showlakes": true,
           "showland": true,
           "subunitcolor": "white"
          },
          "hoverlabel": {
           "align": "left"
          },
          "hovermode": "closest",
          "mapbox": {
           "style": "light"
          },
          "paper_bgcolor": "white",
          "plot_bgcolor": "#E5ECF6",
          "polar": {
           "angularaxis": {
            "gridcolor": "white",
            "linecolor": "white",
            "ticks": ""
           },
           "bgcolor": "#E5ECF6",
           "radialaxis": {
            "gridcolor": "white",
            "linecolor": "white",
            "ticks": ""
           }
          },
          "scene": {
           "xaxis": {
            "backgroundcolor": "#E5ECF6",
            "gridcolor": "white",
            "gridwidth": 2,
            "linecolor": "white",
            "showbackground": true,
            "ticks": "",
            "zerolinecolor": "white"
           },
           "yaxis": {
            "backgroundcolor": "#E5ECF6",
            "gridcolor": "white",
            "gridwidth": 2,
            "linecolor": "white",
            "showbackground": true,
            "ticks": "",
            "zerolinecolor": "white"
           },
           "zaxis": {
            "backgroundcolor": "#E5ECF6",
            "gridcolor": "white",
            "gridwidth": 2,
            "linecolor": "white",
            "showbackground": true,
            "ticks": "",
            "zerolinecolor": "white"
           }
          },
          "shapedefaults": {
           "line": {
            "color": "#2a3f5f"
           }
          },
          "ternary": {
           "aaxis": {
            "gridcolor": "white",
            "linecolor": "white",
            "ticks": ""
           },
           "baxis": {
            "gridcolor": "white",
            "linecolor": "white",
            "ticks": ""
           },
           "bgcolor": "#E5ECF6",
           "caxis": {
            "gridcolor": "white",
            "linecolor": "white",
            "ticks": ""
           }
          },
          "title": {
           "x": 0.05
          },
          "xaxis": {
           "automargin": true,
           "gridcolor": "white",
           "linecolor": "white",
           "ticks": "",
           "title": {
            "standoff": 15
           },
           "zerolinecolor": "white",
           "zerolinewidth": 2
          },
          "yaxis": {
           "automargin": true,
           "gridcolor": "white",
           "linecolor": "white",
           "ticks": "",
           "title": {
            "standoff": 15
           },
           "zerolinecolor": "white",
           "zerolinewidth": 2
          }
         }
        },
        "title": {
         "text": "Top 30 Universities: Alumni vs. Award"
        },
        "xaxis": {
         "anchor": "y",
         "domain": [
          0,
          1
         ],
         "title": {
          "text": "Number of Alumni"
         }
        },
        "yaxis": {
         "anchor": "x",
         "domain": [
          0,
          1
         ],
         "title": {
          "text": "Number of Awards"
         }
        }
       }
      },
      "text/html": [
       "<div>                            <div id=\"37e3edd5-d1d5-45d8-ba3b-3909064a90c3\" class=\"plotly-graph-div\" style=\"height:525px; width:100%;\"></div>            <script type=\"text/javascript\">                require([\"plotly\"], function(Plotly) {                    window.PLOTLYENV=window.PLOTLYENV || {};                                    if (document.getElementById(\"37e3edd5-d1d5-45d8-ba3b-3909064a90c3\")) {                    Plotly.newPlot(                        \"37e3edd5-d1d5-45d8-ba3b-3909064a90c3\",                        [{\"hovertemplate\":\"<b>%{hovertext}</b><br><br>University_Name=Harvard University<br>Alumni=%{marker.size}<br>Award=%{y}<extra></extra>\",\"hovertext\":[\"Harvard University\"],\"legendgroup\":\"Harvard University\",\"marker\":{\"color\":\"#636efa\",\"size\":[100.0],\"sizemode\":\"area\",\"sizeref\":0.25,\"symbol\":\"circle\"},\"mode\":\"markers\",\"name\":\"Harvard University\",\"orientation\":\"v\",\"showlegend\":true,\"x\":[100.0],\"xaxis\":\"x\",\"y\":[97.1],\"yaxis\":\"y\",\"type\":\"scatter\"},{\"hovertemplate\":\"<b>%{hovertext}</b><br><br>University_Name=University of Cambridge<br>Alumni=%{marker.size}<br>Award=%{y}<extra></extra>\",\"hovertext\":[\"University of Cambridge\"],\"legendgroup\":\"University of Cambridge\",\"marker\":{\"color\":\"#EF553B\",\"size\":[78.2],\"sizemode\":\"area\",\"sizeref\":0.25,\"symbol\":\"circle\"},\"mode\":\"markers\",\"name\":\"University of Cambridge\",\"orientation\":\"v\",\"showlegend\":true,\"x\":[78.2],\"xaxis\":\"x\",\"y\":[90.8],\"yaxis\":\"y\",\"type\":\"scatter\"},{\"hovertemplate\":\"<b>%{hovertext}</b><br><br>University_Name=Massachusetts Institute of Technology (MIT)<br>Alumni=%{marker.size}<br>Award=%{y}<extra></extra>\",\"hovertext\":[\"Massachusetts Institute of Technology (MIT)\"],\"legendgroup\":\"Massachusetts Institute of Technology (MIT)\",\"marker\":{\"color\":\"#00cc96\",\"size\":[71.9],\"sizemode\":\"area\",\"sizeref\":0.25,\"symbol\":\"circle\"},\"mode\":\"markers\",\"name\":\"Massachusetts Institute of Technology (MIT)\",\"orientation\":\"v\",\"showlegend\":true,\"x\":[71.9],\"xaxis\":\"x\",\"y\":[82.8],\"yaxis\":\"y\",\"type\":\"scatter\"},{\"hovertemplate\":\"<b>%{hovertext}</b><br><br>University_Name=University of California, Berkeley<br>Alumni=%{marker.size}<br>Award=%{y}<extra></extra>\",\"hovertext\":[\"University of California, Berkeley\"],\"legendgroup\":\"University of California, Berkeley\",\"marker\":{\"color\":\"#ab63fa\",\"size\":[65.3],\"sizemode\":\"area\",\"sizeref\":0.25,\"symbol\":\"circle\"},\"mode\":\"markers\",\"name\":\"University of California, Berkeley\",\"orientation\":\"v\",\"showlegend\":true,\"x\":[65.3],\"xaxis\":\"x\",\"y\":[76.5],\"yaxis\":\"y\",\"type\":\"scatter\"},{\"hovertemplate\":\"<b>%{hovertext}</b><br><br>University_Name=Princeton University<br>Alumni=%{marker.size}<br>Award=%{y}<extra></extra>\",\"hovertext\":[\"Princeton University\"],\"legendgroup\":\"Princeton University\",\"marker\":{\"color\":\"#FFA15A\",\"size\":[61.2],\"sizemode\":\"area\",\"sizeref\":0.25,\"symbol\":\"circle\"},\"mode\":\"markers\",\"name\":\"Princeton University\",\"orientation\":\"v\",\"showlegend\":true,\"x\":[61.2],\"xaxis\":\"x\",\"y\":[100.0],\"yaxis\":\"y\",\"type\":\"scatter\"},{\"hovertemplate\":\"<b>%{hovertext}</b><br><br>University_Name=Columbia University<br>Alumni=%{marker.size}<br>Award=%{y}<extra></extra>\",\"hovertext\":[\"Columbia University\"],\"legendgroup\":\"Columbia University\",\"marker\":{\"color\":\"#19d3f3\",\"size\":[59.4],\"sizemode\":\"area\",\"sizeref\":0.25,\"symbol\":\"circle\"},\"mode\":\"markers\",\"name\":\"Columbia University\",\"orientation\":\"v\",\"showlegend\":true,\"x\":[59.4],\"xaxis\":\"x\",\"y\":[63.2],\"yaxis\":\"y\",\"type\":\"scatter\"},{\"hovertemplate\":\"<b>%{hovertext}</b><br><br>University_Name=University of Chicago<br>Alumni=%{marker.size}<br>Award=%{y}<extra></extra>\",\"hovertext\":[\"University of Chicago\"],\"legendgroup\":\"University of Chicago\",\"marker\":{\"color\":\"#FF6692\",\"size\":[59.0],\"sizemode\":\"area\",\"sizeref\":0.25,\"symbol\":\"circle\"},\"mode\":\"markers\",\"name\":\"University of Chicago\",\"orientation\":\"v\",\"showlegend\":true,\"x\":[59.0],\"xaxis\":\"x\",\"y\":[84.5],\"yaxis\":\"y\",\"type\":\"scatter\"},{\"hovertemplate\":\"<b>%{hovertext}</b><br><br>University_Name=California Institute of Technology<br>Alumni=%{marker.size}<br>Award=%{y}<extra></extra>\",\"hovertext\":[\"California Institute of Technology\"],\"legendgroup\":\"California Institute of Technology\",\"marker\":{\"color\":\"#B6E880\",\"size\":[55.7],\"sizemode\":\"area\",\"sizeref\":0.25,\"symbol\":\"circle\"},\"mode\":\"markers\",\"name\":\"California Institute of Technology\",\"orientation\":\"v\",\"showlegend\":true,\"x\":[55.7],\"xaxis\":\"x\",\"y\":[63.4],\"yaxis\":\"y\",\"type\":\"scatter\"},{\"hovertemplate\":\"<b>%{hovertext}</b><br><br>University_Name=Yale University<br>Alumni=%{marker.size}<br>Award=%{y}<extra></extra>\",\"hovertext\":[\"Yale University\"],\"legendgroup\":\"Yale University\",\"marker\":{\"color\":\"#FF97FF\",\"size\":[50.3],\"sizemode\":\"area\",\"sizeref\":0.25,\"symbol\":\"circle\"},\"mode\":\"markers\",\"name\":\"Yale University\",\"orientation\":\"v\",\"showlegend\":true,\"x\":[50.3],\"xaxis\":\"x\",\"y\":[49.6],\"yaxis\":\"y\",\"type\":\"scatter\"},{\"hovertemplate\":\"<b>%{hovertext}</b><br><br>University_Name=PSL University<br>Alumni=%{marker.size}<br>Award=%{y}<extra></extra>\",\"hovertext\":[\"PSL University\"],\"legendgroup\":\"PSL University\",\"marker\":{\"color\":\"#FECB52\",\"size\":[50.3],\"sizemode\":\"area\",\"sizeref\":0.25,\"symbol\":\"circle\"},\"mode\":\"markers\",\"name\":\"PSL University\",\"orientation\":\"v\",\"showlegend\":true,\"x\":[50.3],\"xaxis\":\"x\",\"y\":[45.1],\"yaxis\":\"y\",\"type\":\"scatter\"},{\"hovertemplate\":\"<b>%{hovertext}</b><br><br>University_Name=University of Oxford<br>Alumni=%{marker.size}<br>Award=%{y}<extra></extra>\",\"hovertext\":[\"University of Oxford\"],\"legendgroup\":\"University of Oxford\",\"marker\":{\"color\":\"#636efa\",\"size\":[49.5],\"sizemode\":\"area\",\"sizeref\":0.25,\"symbol\":\"circle\"},\"mode\":\"markers\",\"name\":\"University of Oxford\",\"orientation\":\"v\",\"showlegend\":true,\"x\":[49.5],\"xaxis\":\"x\",\"y\":[59.7],\"yaxis\":\"y\",\"type\":\"scatter\"},{\"hovertemplate\":\"<b>%{hovertext}</b><br><br>University_Name=Stanford University<br>Alumni=%{marker.size}<br>Award=%{y}<extra></extra>\",\"hovertext\":[\"Stanford University\"],\"legendgroup\":\"Stanford University\",\"marker\":{\"color\":\"#EF553B\",\"size\":[45.3],\"sizemode\":\"area\",\"sizeref\":0.25,\"symbol\":\"circle\"},\"mode\":\"markers\",\"name\":\"Stanford University\",\"orientation\":\"v\",\"showlegend\":true,\"x\":[45.3],\"xaxis\":\"x\",\"y\":[88.1],\"yaxis\":\"y\",\"type\":\"scatter\"},{\"hovertemplate\":\"<b>%{hovertext}</b><br><br>University_Name=Cornell University<br>Alumni=%{marker.size}<br>Award=%{y}<extra></extra>\",\"hovertext\":[\"Cornell University\"],\"legendgroup\":\"Cornell University\",\"marker\":{\"color\":\"#00cc96\",\"size\":[42.2],\"sizemode\":\"area\",\"sizeref\":0.25,\"symbol\":\"circle\"},\"mode\":\"markers\",\"name\":\"Cornell University\",\"orientation\":\"v\",\"showlegend\":true,\"x\":[42.2],\"xaxis\":\"x\",\"y\":[44.2],\"yaxis\":\"y\",\"type\":\"scatter\"},{\"hovertemplate\":\"<b>%{hovertext}</b><br><br>University_Name=Sorbonne University<br>Alumni=%{marker.size}<br>Award=%{y}<extra></extra>\",\"hovertext\":[\"Sorbonne University\"],\"legendgroup\":\"Sorbonne University\",\"marker\":{\"color\":\"#ab63fa\",\"size\":[38.6],\"sizemode\":\"area\",\"sizeref\":0.25,\"symbol\":\"circle\"},\"mode\":\"markers\",\"name\":\"Sorbonne University\",\"orientation\":\"v\",\"showlegend\":true,\"x\":[38.6],\"xaxis\":\"x\",\"y\":[23.4],\"yaxis\":\"y\",\"type\":\"scatter\"},{\"hovertemplate\":\"<b>%{hovertext}</b><br><br>University_Name=Moscow State University<br>Alumni=%{marker.size}<br>Award=%{y}<extra></extra>\",\"hovertext\":[\"Moscow State University\"],\"legendgroup\":\"Moscow State University\",\"marker\":{\"color\":\"#FFA15A\",\"size\":[37.8],\"sizemode\":\"area\",\"sizeref\":0.25,\"symbol\":\"circle\"},\"mode\":\"markers\",\"name\":\"Moscow State University\",\"orientation\":\"v\",\"showlegend\":true,\"x\":[37.8],\"xaxis\":\"x\",\"y\":[29.1],\"yaxis\":\"y\",\"type\":\"scatter\"},{\"hovertemplate\":\"<b>%{hovertext}</b><br><br>University_Name=University of Geneva<br>Alumni=%{marker.size}<br>Award=%{y}<extra></extra>\",\"hovertext\":[\"University of Geneva\"],\"legendgroup\":\"University of Geneva\",\"marker\":{\"color\":\"#19d3f3\",\"size\":[37.4],\"sizemode\":\"area\",\"sizeref\":0.25,\"symbol\":\"circle\"},\"mode\":\"markers\",\"name\":\"University of Geneva\",\"orientation\":\"v\",\"showlegend\":true,\"x\":[37.4],\"xaxis\":\"x\",\"y\":[37.3],\"yaxis\":\"y\",\"type\":\"scatter\"},{\"hovertemplate\":\"<b>%{hovertext}</b><br><br>University_Name=University of Michigan-Ann Arbor<br>Alumni=%{marker.size}<br>Award=%{y}<extra></extra>\",\"hovertext\":[\"University of Michigan-Ann Arbor\"],\"legendgroup\":\"University of Michigan-Ann Arbor\",\"marker\":{\"color\":\"#FF6692\",\"size\":[37.1],\"sizemode\":\"area\",\"sizeref\":0.25,\"symbol\":\"circle\"},\"mode\":\"markers\",\"name\":\"University of Michigan-Ann Arbor\",\"orientation\":\"v\",\"showlegend\":true,\"x\":[37.1],\"xaxis\":\"x\",\"y\":[9.8],\"yaxis\":\"y\",\"type\":\"scatter\"},{\"hovertemplate\":\"<b>%{hovertext}</b><br><br>University_Name=Paris-Saclay University<br>Alumni=%{marker.size}<br>Award=%{y}<extra></extra>\",\"hovertext\":[\"Paris-Saclay University\"],\"legendgroup\":\"Paris-Saclay University\",\"marker\":{\"color\":\"#B6E880\",\"size\":[36.9],\"sizemode\":\"area\",\"sizeref\":0.25,\"symbol\":\"circle\"},\"mode\":\"markers\",\"name\":\"Paris-Saclay University\",\"orientation\":\"v\",\"showlegend\":true,\"x\":[36.9],\"xaxis\":\"x\",\"y\":[73.8],\"yaxis\":\"y\",\"type\":\"scatter\"},{\"hovertemplate\":\"<b>%{hovertext}</b><br><br>University_Name=The University of Tokyo<br>Alumni=%{marker.size}<br>Award=%{y}<extra></extra>\",\"hovertext\":[\"The University of Tokyo\"],\"legendgroup\":\"The University of Tokyo\",\"marker\":{\"color\":\"#FF97FF\",\"size\":[36.3],\"sizemode\":\"area\",\"sizeref\":0.25,\"symbol\":\"circle\"},\"mode\":\"markers\",\"name\":\"The University of Tokyo\",\"orientation\":\"v\",\"showlegend\":true,\"x\":[36.3],\"xaxis\":\"x\",\"y\":[23.5],\"yaxis\":\"y\",\"type\":\"scatter\"},{\"hovertemplate\":\"<b>%{hovertext}</b><br><br>University_Name=Johns Hopkins University<br>Alumni=%{marker.size}<br>Award=%{y}<extra></extra>\",\"hovertext\":[\"Johns Hopkins University\"],\"legendgroup\":\"Johns Hopkins University\",\"marker\":{\"color\":\"#FECB52\",\"size\":[34.0],\"sizemode\":\"area\",\"sizeref\":0.25,\"symbol\":\"circle\"},\"mode\":\"markers\",\"name\":\"Johns Hopkins University\",\"orientation\":\"v\",\"showlegend\":true,\"x\":[34.0],\"xaxis\":\"x\",\"y\":[34.6],\"yaxis\":\"y\",\"type\":\"scatter\"},{\"hovertemplate\":\"<b>%{hovertext}</b><br><br>University_Name=Technical University of Munich<br>Alumni=%{marker.size}<br>Award=%{y}<extra></extra>\",\"hovertext\":[\"Technical University of Munich\"],\"legendgroup\":\"Technical University of Munich\",\"marker\":{\"color\":\"#636efa\",\"size\":[34.0],\"sizemode\":\"area\",\"sizeref\":0.25,\"symbol\":\"circle\"},\"mode\":\"markers\",\"name\":\"Technical University of Munich\",\"orientation\":\"v\",\"showlegend\":true,\"x\":[34.0],\"xaxis\":\"x\",\"y\":[17.2],\"yaxis\":\"y\",\"type\":\"scatter\"},{\"hovertemplate\":\"<b>%{hovertext}</b><br><br>University_Name=Kyoto University<br>Alumni=%{marker.size}<br>Award=%{y}<extra></extra>\",\"hovertext\":[\"Kyoto University\"],\"legendgroup\":\"Kyoto University\",\"marker\":{\"color\":\"#EF553B\",\"size\":[33.6],\"sizemode\":\"area\",\"sizeref\":0.25,\"symbol\":\"circle\"},\"mode\":\"markers\",\"name\":\"Kyoto University\",\"orientation\":\"v\",\"showlegend\":true,\"x\":[33.6],\"xaxis\":\"x\",\"y\":[38.8],\"yaxis\":\"y\",\"type\":\"scatter\"},{\"hovertemplate\":\"<b>%{hovertext}</b><br><br>University_Name=University of Pennsylvania<br>Alumni=%{marker.size}<br>Award=%{y}<extra></extra>\",\"hovertext\":[\"University of Pennsylvania\"],\"legendgroup\":\"University of Pennsylvania\",\"marker\":{\"color\":\"#00cc96\",\"size\":[32.0],\"sizemode\":\"area\",\"sizeref\":0.25,\"symbol\":\"circle\"},\"mode\":\"markers\",\"name\":\"University of Pennsylvania\",\"orientation\":\"v\",\"showlegend\":true,\"x\":[32.0],\"xaxis\":\"x\",\"y\":[39.6],\"yaxis\":\"y\",\"type\":\"scatter\"},{\"hovertemplate\":\"<b>%{hovertext}</b><br><br>University_Name=Goethe University Frankfurt<br>Alumni=%{marker.size}<br>Award=%{y}<extra></extra>\",\"hovertext\":[\"Goethe University Frankfurt\"],\"legendgroup\":\"Goethe University Frankfurt\",\"marker\":{\"color\":\"#ab63fa\",\"size\":[31.6],\"sizemode\":\"area\",\"sizeref\":0.25,\"symbol\":\"circle\"},\"mode\":\"markers\",\"name\":\"Goethe University Frankfurt\",\"orientation\":\"v\",\"showlegend\":true,\"x\":[31.6],\"xaxis\":\"x\",\"y\":[0.0],\"yaxis\":\"y\",\"type\":\"scatter\"},{\"hovertemplate\":\"<b>%{hovertext}</b><br><br>University_Name=University of Rochester<br>Alumni=%{marker.size}<br>Award=%{y}<extra></extra>\",\"hovertext\":[\"University of Rochester\"],\"legendgroup\":\"University of Rochester\",\"marker\":{\"color\":\"#FFA15A\",\"size\":[30.7],\"sizemode\":\"area\",\"sizeref\":0.25,\"symbol\":\"circle\"},\"mode\":\"markers\",\"name\":\"University of Rochester\",\"orientation\":\"v\",\"showlegend\":true,\"x\":[30.7],\"xaxis\":\"x\",\"y\":[5.3],\"yaxis\":\"y\",\"type\":\"scatter\"},{\"hovertemplate\":\"<b>%{hovertext}</b><br><br>University_Name=University of Bonn<br>Alumni=%{marker.size}<br>Award=%{y}<extra></extra>\",\"hovertext\":[\"University of Bonn\"],\"legendgroup\":\"University of Bonn\",\"marker\":{\"color\":\"#19d3f3\",\"size\":[30.3],\"sizemode\":\"area\",\"sizeref\":0.25,\"symbol\":\"circle\"},\"mode\":\"markers\",\"name\":\"University of Bonn\",\"orientation\":\"v\",\"showlegend\":true,\"x\":[30.3],\"xaxis\":\"x\",\"y\":[33.0],\"yaxis\":\"y\",\"type\":\"scatter\"},{\"hovertemplate\":\"<b>%{hovertext}</b><br><br>University_Name=University of California, Los Angeles<br>Alumni=%{marker.size}<br>Award=%{y}<extra></extra>\",\"hovertext\":[\"University of California, Los Angeles\"],\"legendgroup\":\"University of California, Los Angeles\",\"marker\":{\"color\":\"#FF6692\",\"size\":[29.8],\"sizemode\":\"area\",\"sizeref\":0.25,\"symbol\":\"circle\"},\"mode\":\"markers\",\"name\":\"University of California, Los Angeles\",\"orientation\":\"v\",\"showlegend\":true,\"x\":[29.8],\"xaxis\":\"x\",\"y\":[45.0],\"yaxis\":\"y\",\"type\":\"scatter\"},{\"hovertemplate\":\"<b>%{hovertext}</b><br><br>University_Name=The Hebrew University of Jerusalem<br>Alumni=%{marker.size}<br>Award=%{y}<extra></extra>\",\"hovertext\":[\"The Hebrew University of Jerusalem\"],\"legendgroup\":\"The Hebrew University of Jerusalem\",\"marker\":{\"color\":\"#B6E880\",\"size\":[29.8],\"sizemode\":\"area\",\"sizeref\":0.25,\"symbol\":\"circle\"},\"mode\":\"markers\",\"name\":\"The Hebrew University of Jerusalem\",\"orientation\":\"v\",\"showlegend\":true,\"x\":[29.8],\"xaxis\":\"x\",\"y\":[26.1],\"yaxis\":\"y\",\"type\":\"scatter\"},{\"hovertemplate\":\"<b>%{hovertext}</b><br><br>University_Name=Case Western Reserve University<br>Alumni=%{marker.size}<br>Award=%{y}<extra></extra>\",\"hovertext\":[\"Case Western Reserve University\"],\"legendgroup\":\"Case Western Reserve University\",\"marker\":{\"color\":\"#FF97FF\",\"size\":[29.8],\"sizemode\":\"area\",\"sizeref\":0.25,\"symbol\":\"circle\"},\"mode\":\"markers\",\"name\":\"Case Western Reserve University\",\"orientation\":\"v\",\"showlegend\":true,\"x\":[29.8],\"xaxis\":\"x\",\"y\":[9.2],\"yaxis\":\"y\",\"type\":\"scatter\"},{\"hovertemplate\":\"<b>%{hovertext}</b><br><br>University_Name=McGill University<br>Alumni=%{marker.size}<br>Award=%{y}<extra></extra>\",\"hovertext\":[\"McGill University\"],\"legendgroup\":\"McGill University\",\"marker\":{\"color\":\"#FECB52\",\"size\":[29.4],\"sizemode\":\"area\",\"sizeref\":0.25,\"symbol\":\"circle\"},\"mode\":\"markers\",\"name\":\"McGill University\",\"orientation\":\"v\",\"showlegend\":true,\"x\":[29.4],\"xaxis\":\"x\",\"y\":[0.0],\"yaxis\":\"y\",\"type\":\"scatter\"}],                        {\"template\":{\"data\":{\"histogram2dcontour\":[{\"type\":\"histogram2dcontour\",\"colorbar\":{\"outlinewidth\":0,\"ticks\":\"\"},\"colorscale\":[[0.0,\"#0d0887\"],[0.1111111111111111,\"#46039f\"],[0.2222222222222222,\"#7201a8\"],[0.3333333333333333,\"#9c179e\"],[0.4444444444444444,\"#bd3786\"],[0.5555555555555556,\"#d8576b\"],[0.6666666666666666,\"#ed7953\"],[0.7777777777777778,\"#fb9f3a\"],[0.8888888888888888,\"#fdca26\"],[1.0,\"#f0f921\"]]}],\"choropleth\":[{\"type\":\"choropleth\",\"colorbar\":{\"outlinewidth\":0,\"ticks\":\"\"}}],\"histogram2d\":[{\"type\":\"histogram2d\",\"colorbar\":{\"outlinewidth\":0,\"ticks\":\"\"},\"colorscale\":[[0.0,\"#0d0887\"],[0.1111111111111111,\"#46039f\"],[0.2222222222222222,\"#7201a8\"],[0.3333333333333333,\"#9c179e\"],[0.4444444444444444,\"#bd3786\"],[0.5555555555555556,\"#d8576b\"],[0.6666666666666666,\"#ed7953\"],[0.7777777777777778,\"#fb9f3a\"],[0.8888888888888888,\"#fdca26\"],[1.0,\"#f0f921\"]]}],\"heatmap\":[{\"type\":\"heatmap\",\"colorbar\":{\"outlinewidth\":0,\"ticks\":\"\"},\"colorscale\":[[0.0,\"#0d0887\"],[0.1111111111111111,\"#46039f\"],[0.2222222222222222,\"#7201a8\"],[0.3333333333333333,\"#9c179e\"],[0.4444444444444444,\"#bd3786\"],[0.5555555555555556,\"#d8576b\"],[0.6666666666666666,\"#ed7953\"],[0.7777777777777778,\"#fb9f3a\"],[0.8888888888888888,\"#fdca26\"],[1.0,\"#f0f921\"]]}],\"heatmapgl\":[{\"type\":\"heatmapgl\",\"colorbar\":{\"outlinewidth\":0,\"ticks\":\"\"},\"colorscale\":[[0.0,\"#0d0887\"],[0.1111111111111111,\"#46039f\"],[0.2222222222222222,\"#7201a8\"],[0.3333333333333333,\"#9c179e\"],[0.4444444444444444,\"#bd3786\"],[0.5555555555555556,\"#d8576b\"],[0.6666666666666666,\"#ed7953\"],[0.7777777777777778,\"#fb9f3a\"],[0.8888888888888888,\"#fdca26\"],[1.0,\"#f0f921\"]]}],\"contourcarpet\":[{\"type\":\"contourcarpet\",\"colorbar\":{\"outlinewidth\":0,\"ticks\":\"\"}}],\"contour\":[{\"type\":\"contour\",\"colorbar\":{\"outlinewidth\":0,\"ticks\":\"\"},\"colorscale\":[[0.0,\"#0d0887\"],[0.1111111111111111,\"#46039f\"],[0.2222222222222222,\"#7201a8\"],[0.3333333333333333,\"#9c179e\"],[0.4444444444444444,\"#bd3786\"],[0.5555555555555556,\"#d8576b\"],[0.6666666666666666,\"#ed7953\"],[0.7777777777777778,\"#fb9f3a\"],[0.8888888888888888,\"#fdca26\"],[1.0,\"#f0f921\"]]}],\"surface\":[{\"type\":\"surface\",\"colorbar\":{\"outlinewidth\":0,\"ticks\":\"\"},\"colorscale\":[[0.0,\"#0d0887\"],[0.1111111111111111,\"#46039f\"],[0.2222222222222222,\"#7201a8\"],[0.3333333333333333,\"#9c179e\"],[0.4444444444444444,\"#bd3786\"],[0.5555555555555556,\"#d8576b\"],[0.6666666666666666,\"#ed7953\"],[0.7777777777777778,\"#fb9f3a\"],[0.8888888888888888,\"#fdca26\"],[1.0,\"#f0f921\"]]}],\"mesh3d\":[{\"type\":\"mesh3d\",\"colorbar\":{\"outlinewidth\":0,\"ticks\":\"\"}}],\"scatter\":[{\"fillpattern\":{\"fillmode\":\"overlay\",\"size\":10,\"solidity\":0.2},\"type\":\"scatter\"}],\"parcoords\":[{\"type\":\"parcoords\",\"line\":{\"colorbar\":{\"outlinewidth\":0,\"ticks\":\"\"}}}],\"scatterpolargl\":[{\"type\":\"scatterpolargl\",\"marker\":{\"colorbar\":{\"outlinewidth\":0,\"ticks\":\"\"}}}],\"bar\":[{\"error_x\":{\"color\":\"#2a3f5f\"},\"error_y\":{\"color\":\"#2a3f5f\"},\"marker\":{\"line\":{\"color\":\"#E5ECF6\",\"width\":0.5},\"pattern\":{\"fillmode\":\"overlay\",\"size\":10,\"solidity\":0.2}},\"type\":\"bar\"}],\"scattergeo\":[{\"type\":\"scattergeo\",\"marker\":{\"colorbar\":{\"outlinewidth\":0,\"ticks\":\"\"}}}],\"scatterpolar\":[{\"type\":\"scatterpolar\",\"marker\":{\"colorbar\":{\"outlinewidth\":0,\"ticks\":\"\"}}}],\"histogram\":[{\"marker\":{\"pattern\":{\"fillmode\":\"overlay\",\"size\":10,\"solidity\":0.2}},\"type\":\"histogram\"}],\"scattergl\":[{\"type\":\"scattergl\",\"marker\":{\"colorbar\":{\"outlinewidth\":0,\"ticks\":\"\"}}}],\"scatter3d\":[{\"type\":\"scatter3d\",\"line\":{\"colorbar\":{\"outlinewidth\":0,\"ticks\":\"\"}},\"marker\":{\"colorbar\":{\"outlinewidth\":0,\"ticks\":\"\"}}}],\"scattermapbox\":[{\"type\":\"scattermapbox\",\"marker\":{\"colorbar\":{\"outlinewidth\":0,\"ticks\":\"\"}}}],\"scatterternary\":[{\"type\":\"scatterternary\",\"marker\":{\"colorbar\":{\"outlinewidth\":0,\"ticks\":\"\"}}}],\"scattercarpet\":[{\"type\":\"scattercarpet\",\"marker\":{\"colorbar\":{\"outlinewidth\":0,\"ticks\":\"\"}}}],\"carpet\":[{\"aaxis\":{\"endlinecolor\":\"#2a3f5f\",\"gridcolor\":\"white\",\"linecolor\":\"white\",\"minorgridcolor\":\"white\",\"startlinecolor\":\"#2a3f5f\"},\"baxis\":{\"endlinecolor\":\"#2a3f5f\",\"gridcolor\":\"white\",\"linecolor\":\"white\",\"minorgridcolor\":\"white\",\"startlinecolor\":\"#2a3f5f\"},\"type\":\"carpet\"}],\"table\":[{\"cells\":{\"fill\":{\"color\":\"#EBF0F8\"},\"line\":{\"color\":\"white\"}},\"header\":{\"fill\":{\"color\":\"#C8D4E3\"},\"line\":{\"color\":\"white\"}},\"type\":\"table\"}],\"barpolar\":[{\"marker\":{\"line\":{\"color\":\"#E5ECF6\",\"width\":0.5},\"pattern\":{\"fillmode\":\"overlay\",\"size\":10,\"solidity\":0.2}},\"type\":\"barpolar\"}],\"pie\":[{\"automargin\":true,\"type\":\"pie\"}]},\"layout\":{\"autotypenumbers\":\"strict\",\"colorway\":[\"#636efa\",\"#EF553B\",\"#00cc96\",\"#ab63fa\",\"#FFA15A\",\"#19d3f3\",\"#FF6692\",\"#B6E880\",\"#FF97FF\",\"#FECB52\"],\"font\":{\"color\":\"#2a3f5f\"},\"hovermode\":\"closest\",\"hoverlabel\":{\"align\":\"left\"},\"paper_bgcolor\":\"white\",\"plot_bgcolor\":\"#E5ECF6\",\"polar\":{\"bgcolor\":\"#E5ECF6\",\"angularaxis\":{\"gridcolor\":\"white\",\"linecolor\":\"white\",\"ticks\":\"\"},\"radialaxis\":{\"gridcolor\":\"white\",\"linecolor\":\"white\",\"ticks\":\"\"}},\"ternary\":{\"bgcolor\":\"#E5ECF6\",\"aaxis\":{\"gridcolor\":\"white\",\"linecolor\":\"white\",\"ticks\":\"\"},\"baxis\":{\"gridcolor\":\"white\",\"linecolor\":\"white\",\"ticks\":\"\"},\"caxis\":{\"gridcolor\":\"white\",\"linecolor\":\"white\",\"ticks\":\"\"}},\"coloraxis\":{\"colorbar\":{\"outlinewidth\":0,\"ticks\":\"\"}},\"colorscale\":{\"sequential\":[[0.0,\"#0d0887\"],[0.1111111111111111,\"#46039f\"],[0.2222222222222222,\"#7201a8\"],[0.3333333333333333,\"#9c179e\"],[0.4444444444444444,\"#bd3786\"],[0.5555555555555556,\"#d8576b\"],[0.6666666666666666,\"#ed7953\"],[0.7777777777777778,\"#fb9f3a\"],[0.8888888888888888,\"#fdca26\"],[1.0,\"#f0f921\"]],\"sequentialminus\":[[0.0,\"#0d0887\"],[0.1111111111111111,\"#46039f\"],[0.2222222222222222,\"#7201a8\"],[0.3333333333333333,\"#9c179e\"],[0.4444444444444444,\"#bd3786\"],[0.5555555555555556,\"#d8576b\"],[0.6666666666666666,\"#ed7953\"],[0.7777777777777778,\"#fb9f3a\"],[0.8888888888888888,\"#fdca26\"],[1.0,\"#f0f921\"]],\"diverging\":[[0,\"#8e0152\"],[0.1,\"#c51b7d\"],[0.2,\"#de77ae\"],[0.3,\"#f1b6da\"],[0.4,\"#fde0ef\"],[0.5,\"#f7f7f7\"],[0.6,\"#e6f5d0\"],[0.7,\"#b8e186\"],[0.8,\"#7fbc41\"],[0.9,\"#4d9221\"],[1,\"#276419\"]]},\"xaxis\":{\"gridcolor\":\"white\",\"linecolor\":\"white\",\"ticks\":\"\",\"title\":{\"standoff\":15},\"zerolinecolor\":\"white\",\"automargin\":true,\"zerolinewidth\":2},\"yaxis\":{\"gridcolor\":\"white\",\"linecolor\":\"white\",\"ticks\":\"\",\"title\":{\"standoff\":15},\"zerolinecolor\":\"white\",\"automargin\":true,\"zerolinewidth\":2},\"scene\":{\"xaxis\":{\"backgroundcolor\":\"#E5ECF6\",\"gridcolor\":\"white\",\"linecolor\":\"white\",\"showbackground\":true,\"ticks\":\"\",\"zerolinecolor\":\"white\",\"gridwidth\":2},\"yaxis\":{\"backgroundcolor\":\"#E5ECF6\",\"gridcolor\":\"white\",\"linecolor\":\"white\",\"showbackground\":true,\"ticks\":\"\",\"zerolinecolor\":\"white\",\"gridwidth\":2},\"zaxis\":{\"backgroundcolor\":\"#E5ECF6\",\"gridcolor\":\"white\",\"linecolor\":\"white\",\"showbackground\":true,\"ticks\":\"\",\"zerolinecolor\":\"white\",\"gridwidth\":2}},\"shapedefaults\":{\"line\":{\"color\":\"#2a3f5f\"}},\"annotationdefaults\":{\"arrowcolor\":\"#2a3f5f\",\"arrowhead\":0,\"arrowwidth\":1},\"geo\":{\"bgcolor\":\"white\",\"landcolor\":\"#E5ECF6\",\"subunitcolor\":\"white\",\"showland\":true,\"showlakes\":true,\"lakecolor\":\"white\"},\"title\":{\"x\":0.05},\"mapbox\":{\"style\":\"light\"}}},\"xaxis\":{\"anchor\":\"y\",\"domain\":[0.0,1.0],\"title\":{\"text\":\"Number of Alumni\"}},\"yaxis\":{\"anchor\":\"x\",\"domain\":[0.0,1.0],\"title\":{\"text\":\"Number of Awards\"}},\"legend\":{\"title\":{\"text\":\"University\"},\"tracegroupgap\":0,\"itemsizing\":\"constant\"},\"title\":{\"text\":\"Top 30 Universities: Alumni vs. Award\"},\"font\":{\"size\":12}},                        {\"responsive\": true}                    ).then(function(){\n",
       "                            \n",
       "var gd = document.getElementById('37e3edd5-d1d5-45d8-ba3b-3909064a90c3');\n",
       "var x = new MutationObserver(function (mutations, observer) {{\n",
       "        var display = window.getComputedStyle(gd).display;\n",
       "        if (!display || display === 'none') {{\n",
       "            console.log([gd, 'removed!']);\n",
       "            Plotly.purge(gd);\n",
       "            observer.disconnect();\n",
       "        }}\n",
       "}});\n",
       "\n",
       "// Listen for the removal of the full notebook cells\n",
       "var notebookContainer = gd.closest('#notebook-container');\n",
       "if (notebookContainer) {{\n",
       "    x.observe(notebookContainer, {childList: true});\n",
       "}}\n",
       "\n",
       "// Listen for the clearing of the current output cell\n",
       "var outputEl = gd.closest('.output');\n",
       "if (outputEl) {{\n",
       "    x.observe(outputEl, {childList: true});\n",
       "}}\n",
       "\n",
       "                        })                };                });            </script>        </div>"
      ]
     },
     "metadata": {},
     "output_type": "display_data"
    }
   ],
   "source": [
    "top_30_universities = university_rank.nlargest(30, 'Alumni')\n",
    "\n",
    "# Create the scatter plot\n",
    "fig = px.scatter(\n",
    "    top_30_universities,\n",
    "    x=\"Alumni\",\n",
    "    y=\"Award\",\n",
    "    color=\"University_Name\",\n",
    "    title=\"Top 30 Universities: Alumni vs. Award\",\n",
    "    hover_name=\"University_Name\",\n",
    "    size=\"Alumni\",  # You can use another metric for size if desired\n",
    "    size_max=20,    # Adjust the maximum size of the bubbles\n",
    ")\n",
    "\n",
    "# Customize layout for better aesthetics\n",
    "fig.update_layout(\n",
    "    xaxis_title=\"Number of Alumni\",\n",
    "    yaxis_title=\"Number of Awards\",\n",
    "    legend_title=\"University\",\n",
    "    font=dict(size=12),  # Adjust font size for better visibility\n",
    "    template=\"plotly\",    # Use a light theme\n",
    ")\n",
    "\n",
    "# Show the plot\n",
    "fig.show()"
   ]
  },
  {
   "cell_type": "markdown",
   "id": "bf038b41",
   "metadata": {},
   "source": [
    "## 7. Correlation Heatmap"
   ]
  },
  {
   "cell_type": "code",
   "execution_count": 37,
   "id": "5aa04278",
   "metadata": {
    "scrolled": false
   },
   "outputs": [
    {
     "data": {
      "image/png": "[encoded data removed]",
      "text/plain": [
       "<Figure size 1400x1200 with 2 Axes>"
      ]
     },
     "metadata": {},
     "output_type": "display_data"
    }
   ],
   "source": [
    "df_corr = university_rank[['Alumni', 'Award', 'Hici', 'N&S', 'PUB', 'PCP']].corr()\n",
    "\n",
    "# Set the figure size and style\n",
    "plt.figure(figsize=(14, 12))\n",
    "sns.set_style(\"whitegrid\")  # Use a grid style for a sophisticated look\n",
    "\n",
    "# Create a custom color palette\n",
    "cmap = sns.diverging_palette(220, 20, as_cmap=True)  # A more vibrant diverging palette\n",
    "\n",
    "# Create the heatmap with enhancements\n",
    "heatmap = sns.heatmap(\n",
    "    df_corr,\n",
    "    annot=True,\n",
    "    cmap=cmap,\n",
    "    fmt=\".2f\",\n",
    "    linewidths=.7,\n",
    "    linecolor='gray',  # Softer line color for separation\n",
    "    cbar_kws={\"shrink\": .7, \"label\": \"Correlation Coefficient\"},  # Color bar label\n",
    "    annot_kws={\"size\": 14, \"weight\": \"bold\", \"color\": \"black\"},  # Larger, bolder annotations\n",
    ")\n",
    "\n",
    "# Add titles and labels\n",
    "plt.title('Correlation Heatmap of University Metrics', fontsize=20, weight='bold', pad=20)\n",
    "plt.xticks(fontsize=14, rotation=45, ha='right')  # Rotate and align x-tick labels\n",
    "plt.yticks(fontsize=14, rotation=0)  # Keep y-tick labels horizontal\n",
    "\n",
    "# Add a border around the heatmap\n",
    "plt.gca().spines['top'].set_linewidth(1.5)\n",
    "plt.gca().spines['right'].set_linewidth(1.5)\n",
    "plt.gca().spines['left'].set_linewidth(1.5)\n",
    "plt.gca().spines['bottom'].set_linewidth(1.5)\n",
    "\n",
    "# Show the plot with tight layout\n",
    "plt.tight_layout()\n",
    "plt.show()"
   ]
  },
  {
   "cell_type": "markdown",
   "id": "5049dd12",
   "metadata": {},
   "source": [
    "## 8. Data Comparison"
   ]
  },
  {
   "cell_type": "code",
   "execution_count": 39,
   "id": "bb2ea2a8",
   "metadata": {},
   "outputs": [
    {
     "data": {
      "application/vnd.plotly.v1+json": {
       "config": {
        "plotlyServerURL": "https://plot.ly"
       },
       "data": [
        {
         "hovertemplate": "<b>%{hovertext}</b><br><br>Metric=Alumni<br>University=%{x}<br>Score=%{y}<extra></extra>",
         "hovertext": [
          "Harvard University",
          "Stanford University",
          "Massachusetts Institute of Technology (MIT)",
          "University of Cambridge",
          "University of California, Berkeley",
          "University of Oxford",
          "Princeton University",
          "California Institute of Technology",
          "Columbia University",
          "University of Chicago"
         ],
         "legendgroup": "Alumni",
         "line": {
          "color": "#636efa",
          "dash": "solid"
         },
         "marker": {
          "symbol": "circle"
         },
         "mode": "lines",
         "name": "Alumni",
         "orientation": "v",
         "showlegend": true,
         "type": "scatter",
         "x": [
          "Harvard University",
          "Stanford University",
          "Massachusetts Institute of Technology (MIT)",
          "University of Cambridge",
          "University of California, Berkeley",
          "University of Oxford",
          "Princeton University",
          "California Institute of Technology",
          "Columbia University",
          "University of Chicago"
         ],
         "xaxis": "x",
         "y": [
          100,
          45.3,
          71.9,
          78.2,
          65.3,
          49.5,
          61.2,
          55.7,
          59.4,
          59
         ],
         "yaxis": "y"
        },
        {
         "hovertemplate": "<b>%{hovertext}</b><br><br>Metric=Award<br>University=%{x}<br>Score=%{y}<extra></extra>",
         "hovertext": [
          "Harvard University",
          "Stanford University",
          "Massachusetts Institute of Technology (MIT)",
          "University of Cambridge",
          "University of California, Berkeley",
          "University of Oxford",
          "Princeton University",
          "California Institute of Technology",
          "Columbia University",
          "University of Chicago"
         ],
         "legendgroup": "Award",
         "line": {
          "color": "#EF553B",
          "dash": "solid"
         },
         "marker": {
          "symbol": "circle"
         },
         "mode": "lines",
         "name": "Award",
         "orientation": "v",
         "showlegend": true,
         "type": "scatter",
         "x": [
          "Harvard University",
          "Stanford University",
          "Massachusetts Institute of Technology (MIT)",
          "University of Cambridge",
          "University of California, Berkeley",
          "University of Oxford",
          "Princeton University",
          "California Institute of Technology",
          "Columbia University",
          "University of Chicago"
         ],
         "xaxis": "x",
         "y": [
          97.1,
          88.1,
          82.8,
          90.8,
          76.5,
          59.7,
          100,
          63.4,
          63.2,
          84.5
         ],
         "yaxis": "y"
        },
        {
         "hovertemplate": "<b>%{hovertext}</b><br><br>Metric=Hici<br>University=%{x}<br>Score=%{y}<extra></extra>",
         "hovertext": [
          "Harvard University",
          "Stanford University",
          "Massachusetts Institute of Technology (MIT)",
          "University of Cambridge",
          "University of California, Berkeley",
          "University of Oxford",
          "Princeton University",
          "California Institute of Technology",
          "Columbia University",
          "University of Chicago"
         ],
         "legendgroup": "Hici",
         "line": {
          "color": "#00cc96",
          "dash": "solid"
         },
         "marker": {
          "symbol": "circle"
         },
         "mode": "lines",
         "name": "Hici",
         "orientation": "v",
         "showlegend": true,
         "type": "scatter",
         "x": [
          "Harvard University",
          "Stanford University",
          "Massachusetts Institute of Technology (MIT)",
          "University of Cambridge",
          "University of California, Berkeley",
          "University of Oxford",
          "Princeton University",
          "California Institute of Technology",
          "Columbia University",
          "University of Chicago"
         ],
         "xaxis": "x",
         "y": [
          100,
          73.1,
          55.2,
          45.1,
          46.9,
          51.3,
          26,
          29.8,
          42.7,
          32.5
         ],
         "yaxis": "y"
        },
        {
         "hovertemplate": "<b>%{hovertext}</b><br><br>Metric=N&S<br>University=%{x}<br>Score=%{y}<extra></extra>",
         "hovertext": [
          "Harvard University",
          "Stanford University",
          "Massachusetts Institute of Technology (MIT)",
          "University of Cambridge",
          "University of California, Berkeley",
          "University of Oxford",
          "Princeton University",
          "California Institute of Technology",
          "Columbia University",
          "University of Chicago"
         ],
         "legendgroup": "N&S",
         "line": {
          "color": "#ab63fa",
          "dash": "solid"
         },
         "marker": {
          "symbol": "circle"
         },
         "mode": "lines",
         "name": "N&S",
         "orientation": "v",
         "showlegend": true,
         "type": "scatter",
         "x": [
          "Harvard University",
          "Stanford University",
          "Massachusetts Institute of Technology (MIT)",
          "University of Cambridge",
          "University of California, Berkeley",
          "University of Oxford",
          "Princeton University",
          "California Institute of Technology",
          "Columbia University",
          "University of Chicago"
         ],
         "xaxis": "x",
         "y": [
          100,
          83.9,
          70.8,
          59.8,
          62.8,
          57.2,
          51.3,
          57.9,
          51.9,
          44.9
         ],
         "yaxis": "y"
        },
        {
         "hovertemplate": "<b>%{hovertext}</b><br><br>Metric=PUB<br>University=%{x}<br>Score=%{y}<extra></extra>",
         "hovertext": [
          "Harvard University",
          "Stanford University",
          "Massachusetts Institute of Technology (MIT)",
          "University of Cambridge",
          "University of California, Berkeley",
          "University of Oxford",
          "Princeton University",
          "California Institute of Technology",
          "Columbia University",
          "University of Chicago"
         ],
         "legendgroup": "PUB",
         "line": {
          "color": "#FFA15A",
          "dash": "solid"
         },
         "marker": {
          "symbol": "circle"
         },
         "mode": "lines",
         "name": "PUB",
         "orientation": "v",
         "showlegend": true,
         "type": "scatter",
         "x": [
          "Harvard University",
          "Stanford University",
          "Massachusetts Institute of Technology (MIT)",
          "University of Cambridge",
          "University of California, Berkeley",
          "University of Oxford",
          "Princeton University",
          "California Institute of Technology",
          "Columbia University",
          "University of Chicago"
         ],
         "xaxis": "x",
         "y": [
          100,
          73.1,
          59.1,
          67.2,
          57.1,
          77.1,
          42.3,
          41,
          67,
          53
         ],
         "yaxis": "y"
        },
        {
         "hovertemplate": "<b>%{hovertext}</b><br><br>Metric=PCP<br>University=%{x}<br>Score=%{y}<extra></extra>",
         "hovertext": [
          "Harvard University",
          "Stanford University",
          "Massachusetts Institute of Technology (MIT)",
          "University of Cambridge",
          "University of California, Berkeley",
          "University of Oxford",
          "Princeton University",
          "California Institute of Technology",
          "Columbia University",
          "University of Chicago"
         ],
         "legendgroup": "PCP",
         "line": {
          "color": "#19d3f3",
          "dash": "solid"
         },
         "marker": {
          "symbol": "circle"
         },
         "mode": "lines",
         "name": "PCP",
         "orientation": "v",
         "showlegend": true,
         "type": "scatter",
         "x": [
          "Harvard University",
          "Stanford University",
          "Massachusetts Institute of Technology (MIT)",
          "University of Cambridge",
          "University of California, Berkeley",
          "University of Oxford",
          "Princeton University",
          "California Institute of Technology",
          "Columbia University",
          "University of Chicago"
         ],
         "xaxis": "x",
         "y": [
          85.7,
          59.6,
          73.6,
          60.6,
          55.5,
          47.9,
          75.3,
          100,
          31.6,
          44.2
         ],
         "yaxis": "y"
        }
       ],
       "layout": {
        "legend": {
         "title": {
          "text": "Metric"
         },
         "tracegroupgap": 0
        },
        "template": {
         "data": {
          "bar": [
           {
            "error_x": {
             "color": "#2a3f5f"
            },
            "error_y": {
             "color": "#2a3f5f"
            },
            "marker": {
             "line": {
              "color": "#E5ECF6",
              "width": 0.5
             },
             "pattern": {
              "fillmode": "overlay",
              "size": 10,
              "solidity": 0.2
             }
            },
            "type": "bar"
           }
          ],
          "barpolar": [
           {
            "marker": {
             "line": {
              "color": "#E5ECF6",
              "width": 0.5
             },
             "pattern": {
              "fillmode": "overlay",
              "size": 10,
              "solidity": 0.2
             }
            },
            "type": "barpolar"
           }
          ],
          "carpet": [
           {
            "aaxis": {
             "endlinecolor": "#2a3f5f",
             "gridcolor": "white",
             "linecolor": "white",
             "minorgridcolor": "white",
             "startlinecolor": "#2a3f5f"
            },
            "baxis": {
             "endlinecolor": "#2a3f5f",
             "gridcolor": "white",
             "linecolor": "white",
             "minorgridcolor": "white",
             "startlinecolor": "#2a3f5f"
            },
            "type": "carpet"
           }
          ],
          "choropleth": [
           {
            "colorbar": {
             "outlinewidth": 0,
             "ticks": ""
            },
            "type": "choropleth"
           }
          ],
          "contour": [
           {
            "colorbar": {
             "outlinewidth": 0,
             "ticks": ""
            },
            "colorscale": [
             [
              0,
              "#0d0887"
             ],
             [
              0.1111111111111111,
              "#46039f"
             ],
             [
              0.2222222222222222,
              "#7201a8"
             ],
             [
              0.3333333333333333,
              "#9c179e"
             ],
             [
              0.4444444444444444,
              "#bd3786"
             ],
             [
              0.5555555555555556,
              "#d8576b"
             ],
             [
              0.6666666666666666,
              "#ed7953"
             ],
             [
              0.7777777777777778,
              "#fb9f3a"
             ],
             [
              0.8888888888888888,
              "#fdca26"
             ],
             [
              1,
              "#f0f921"
             ]
            ],
            "type": "contour"
           }
          ],
          "contourcarpet": [
           {
            "colorbar": {
             "outlinewidth": 0,
             "ticks": ""
            },
            "type": "contourcarpet"
           }
          ],
          "heatmap": [
           {
            "colorbar": {
             "outlinewidth": 0,
             "ticks": ""
            },
            "colorscale": [
             [
              0,
              "#0d0887"
             ],
             [
              0.1111111111111111,
              "#46039f"
             ],
             [
              0.2222222222222222,
              "#7201a8"
             ],
             [
              0.3333333333333333,
              "#9c179e"
             ],
             [
              0.4444444444444444,
              "#bd3786"
             ],
             [
              0.5555555555555556,
              "#d8576b"
             ],
             [
              0.6666666666666666,
              "#ed7953"
             ],
             [
              0.7777777777777778,
              "#fb9f3a"
             ],
             [
              0.8888888888888888,
              "#fdca26"
             ],
             [
              1,
              "#f0f921"
             ]
            ],
            "type": "heatmap"
           }
          ],
          "heatmapgl": [
           {
            "colorbar": {
             "outlinewidth": 0,
             "ticks": ""
            },
            "colorscale": [
             [
              0,
              "#0d0887"
             ],
             [
              0.1111111111111111,
              "#46039f"
             ],
             [
              0.2222222222222222,
              "#7201a8"
             ],
             [
              0.3333333333333333,
              "#9c179e"
             ],
             [
              0.4444444444444444,
              "#bd3786"
             ],
             [
              0.5555555555555556,
              "#d8576b"
             ],
             [
              0.6666666666666666,
              "#ed7953"
             ],
             [
              0.7777777777777778,
              "#fb9f3a"
             ],
             [
              0.8888888888888888,
              "#fdca26"
             ],
             [
              1,
              "#f0f921"
             ]
            ],
            "type": "heatmapgl"
           }
          ],
          "histogram": [
           {
            "marker": {
             "pattern": {
              "fillmode": "overlay",
              "size": 10,
              "solidity": 0.2
             }
            },
            "type": "histogram"
           }
          ],
          "histogram2d": [
           {
            "colorbar": {
             "outlinewidth": 0,
             "ticks": ""
            },
            "colorscale": [
             [
              0,
              "#0d0887"
             ],
             [
              0.1111111111111111,
              "#46039f"
             ],
             [
              0.2222222222222222,
              "#7201a8"
             ],
             [
              0.3333333333333333,
              "#9c179e"
             ],
             [
              0.4444444444444444,
              "#bd3786"
             ],
             [
              0.5555555555555556,
              "#d8576b"
             ],
             [
              0.6666666666666666,
              "#ed7953"
             ],
             [
              0.7777777777777778,
              "#fb9f3a"
             ],
             [
              0.8888888888888888,
              "#fdca26"
             ],
             [
              1,
              "#f0f921"
             ]
            ],
            "type": "histogram2d"
           }
          ],
          "histogram2dcontour": [
           {
            "colorbar": {
             "outlinewidth": 0,
             "ticks": ""
            },
            "colorscale": [
             [
              0,
              "#0d0887"
             ],
             [
              0.1111111111111111,
              "#46039f"
             ],
             [
              0.2222222222222222,
              "#7201a8"
             ],
             [
              0.3333333333333333,
              "#9c179e"
             ],
             [
              0.4444444444444444,
              "#bd3786"
             ],
             [
              0.5555555555555556,
              "#d8576b"
             ],
             [
              0.6666666666666666,
              "#ed7953"
             ],
             [
              0.7777777777777778,
              "#fb9f3a"
             ],
             [
              0.8888888888888888,
              "#fdca26"
             ],
             [
              1,
              "#f0f921"
             ]
            ],
            "type": "histogram2dcontour"
           }
          ],
          "mesh3d": [
           {
            "colorbar": {
             "outlinewidth": 0,
             "ticks": ""
            },
            "type": "mesh3d"
           }
          ],
          "parcoords": [
           {
            "line": {
             "colorbar": {
              "outlinewidth": 0,
              "ticks": ""
             }
            },
            "type": "parcoords"
           }
          ],
          "pie": [
           {
            "automargin": true,
            "type": "pie"
           }
          ],
          "scatter": [
           {
            "fillpattern": {
             "fillmode": "overlay",
             "size": 10,
             "solidity": 0.2
            },
            "type": "scatter"
           }
          ],
          "scatter3d": [
           {
            "line": {
             "colorbar": {
              "outlinewidth": 0,
              "ticks": ""
             }
            },
            "marker": {
             "colorbar": {
              "outlinewidth": 0,
              "ticks": ""
             }
            },
            "type": "scatter3d"
           }
          ],
          "scattercarpet": [
           {
            "marker": {
             "colorbar": {
              "outlinewidth": 0,
              "ticks": ""
             }
            },
            "type": "scattercarpet"
           }
          ],
          "scattergeo": [
           {
            "marker": {
             "colorbar": {
              "outlinewidth": 0,
              "ticks": ""
             }
            },
            "type": "scattergeo"
           }
          ],
          "scattergl": [
           {
            "marker": {
             "colorbar": {
              "outlinewidth": 0,
              "ticks": ""
             }
            },
            "type": "scattergl"
           }
          ],
          "scattermapbox": [
           {
            "marker": {
             "colorbar": {
              "outlinewidth": 0,
              "ticks": ""
             }
            },
            "type": "scattermapbox"
           }
          ],
          "scatterpolar": [
           {
            "marker": {
             "colorbar": {
              "outlinewidth": 0,
              "ticks": ""
             }
            },
            "type": "scatterpolar"
           }
          ],
          "scatterpolargl": [
           {
            "marker": {
             "colorbar": {
              "outlinewidth": 0,
              "ticks": ""
             }
            },
            "type": "scatterpolargl"
           }
          ],
          "scatterternary": [
           {
            "marker": {
             "colorbar": {
              "outlinewidth": 0,
              "ticks": ""
             }
            },
            "type": "scatterternary"
           }
          ],
          "surface": [
           {
            "colorbar": {
             "outlinewidth": 0,
             "ticks": ""
            },
            "colorscale": [
             [
              0,
              "#0d0887"
             ],
             [
              0.1111111111111111,
              "#46039f"
             ],
             [
              0.2222222222222222,
              "#7201a8"
             ],
             [
              0.3333333333333333,
              "#9c179e"
             ],
             [
              0.4444444444444444,
              "#bd3786"
             ],
             [
              0.5555555555555556,
              "#d8576b"
             ],
             [
              0.6666666666666666,
              "#ed7953"
             ],
             [
              0.7777777777777778,
              "#fb9f3a"
             ],
             [
              0.8888888888888888,
              "#fdca26"
             ],
             [
              1,
              "#f0f921"
             ]
            ],
            "type": "surface"
           }
          ],
          "table": [
           {
            "cells": {
             "fill": {
              "color": "#EBF0F8"
             },
             "line": {
              "color": "white"
             }
            },
            "header": {
             "fill": {
              "color": "#C8D4E3"
             },
             "line": {
              "color": "white"
             }
            },
            "type": "table"
           }
          ]
         },
         "layout": {
          "annotationdefaults": {
           "arrowcolor": "#2a3f5f",
           "arrowhead": 0,
           "arrowwidth": 1
          },
          "autotypenumbers": "strict",
          "coloraxis": {
           "colorbar": {
            "outlinewidth": 0,
            "ticks": ""
           }
          },
          "colorscale": {
           "diverging": [
            [
             0,
             "#8e0152"
            ],
            [
             0.1,
             "#c51b7d"
            ],
            [
             0.2,
             "#de77ae"
            ],
            [
             0.3,
             "#f1b6da"
            ],
            [
             0.4,
             "#fde0ef"
            ],
            [
             0.5,
             "#f7f7f7"
            ],
            [
             0.6,
             "#e6f5d0"
            ],
            [
             0.7,
             "#b8e186"
            ],
            [
             0.8,
             "#7fbc41"
            ],
            [
             0.9,
             "#4d9221"
            ],
            [
             1,
             "#276419"
            ]
           ],
           "sequential": [
            [
             0,
             "#0d0887"
            ],
            [
             0.1111111111111111,
             "#46039f"
            ],
            [
             0.2222222222222222,
             "#7201a8"
            ],
            [
             0.3333333333333333,
             "#9c179e"
            ],
            [
             0.4444444444444444,
             "#bd3786"
            ],
            [
             0.5555555555555556,
             "#d8576b"
            ],
            [
             0.6666666666666666,
             "#ed7953"
            ],
            [
             0.7777777777777778,
             "#fb9f3a"
            ],
            [
             0.8888888888888888,
             "#fdca26"
            ],
            [
             1,
             "#f0f921"
            ]
           ],
           "sequentialminus": [
            [
             0,
             "#0d0887"
            ],
            [
             0.1111111111111111,
             "#46039f"
            ],
            [
             0.2222222222222222,
             "#7201a8"
            ],
            [
             0.3333333333333333,
             "#9c179e"
            ],
            [
             0.4444444444444444,
             "#bd3786"
            ],
            [
             0.5555555555555556,
             "#d8576b"
            ],
            [
             0.6666666666666666,
             "#ed7953"
            ],
            [
             0.7777777777777778,
             "#fb9f3a"
            ],
            [
             0.8888888888888888,
             "#fdca26"
            ],
            [
             1,
             "#f0f921"
            ]
           ]
          },
          "colorway": [
           "#636efa",
           "#EF553B",
           "#00cc96",
           "#ab63fa",
           "#FFA15A",
           "#19d3f3",
           "#FF6692",
           "#B6E880",
           "#FF97FF",
           "#FECB52"
          ],
          "font": {
           "color": "#2a3f5f"
          },
          "geo": {
           "bgcolor": "white",
           "lakecolor": "white",
           "landcolor": "#E5ECF6",
           "showlakes": true,
           "showland": true,
           "subunitcolor": "white"
          },
          "hoverlabel": {
           "align": "left"
          },
          "hovermode": "closest",
          "mapbox": {
           "style": "light"
          },
          "paper_bgcolor": "white",
          "plot_bgcolor": "#E5ECF6",
          "polar": {
           "angularaxis": {
            "gridcolor": "white",
            "linecolor": "white",
            "ticks": ""
           },
           "bgcolor": "#E5ECF6",
           "radialaxis": {
            "gridcolor": "white",
            "linecolor": "white",
            "ticks": ""
           }
          },
          "scene": {
           "xaxis": {
            "backgroundcolor": "#E5ECF6",
            "gridcolor": "white",
            "gridwidth": 2,
            "linecolor": "white",
            "showbackground": true,
            "ticks": "",
            "zerolinecolor": "white"
           },
           "yaxis": {
            "backgroundcolor": "#E5ECF6",
            "gridcolor": "white",
            "gridwidth": 2,
            "linecolor": "white",
            "showbackground": true,
            "ticks": "",
            "zerolinecolor": "white"
           },
           "zaxis": {
            "backgroundcolor": "#E5ECF6",
            "gridcolor": "white",
            "gridwidth": 2,
            "linecolor": "white",
            "showbackground": true,
            "ticks": "",
            "zerolinecolor": "white"
           }
          },
          "shapedefaults": {
           "line": {
            "color": "#2a3f5f"
           }
          },
          "ternary": {
           "aaxis": {
            "gridcolor": "white",
            "linecolor": "white",
            "ticks": ""
           },
           "baxis": {
            "gridcolor": "white",
            "linecolor": "white",
            "ticks": ""
           },
           "bgcolor": "#E5ECF6",
           "caxis": {
            "gridcolor": "white",
            "linecolor": "white",
            "ticks": ""
           }
          },
          "title": {
           "x": 0.05
          },
          "xaxis": {
           "automargin": true,
           "gridcolor": "white",
           "linecolor": "white",
           "ticks": "",
           "title": {
            "standoff": 15
           },
           "zerolinecolor": "white",
           "zerolinewidth": 2
          },
          "yaxis": {
           "automargin": true,
           "gridcolor": "white",
           "linecolor": "white",
           "ticks": "",
           "title": {
            "standoff": 15
           },
           "zerolinecolor": "white",
           "zerolinewidth": 2
          }
         }
        },
        "title": {
         "text": "Comparison of Alumni, Award, Hici, N&S, PUB, and PCP for Top 10 Universities"
        },
        "xaxis": {
         "anchor": "y",
         "domain": [
          0,
          1
         ],
         "tickangle": -45,
         "title": {
          "text": "University"
         }
        },
        "yaxis": {
         "anchor": "x",
         "domain": [
          0,
          1
         ],
         "title": {
          "text": "Score"
         }
        }
       }
      },
      "text/html": [
       "<div>                            <div id=\"07efeef7-d554-438a-ae9a-d2b5b2d86723\" class=\"plotly-graph-div\" style=\"height:525px; width:100%;\"></div>            <script type=\"text/javascript\">                require([\"plotly\"], function(Plotly) {                    window.PLOTLYENV=window.PLOTLYENV || {};                                    if (document.getElementById(\"07efeef7-d554-438a-ae9a-d2b5b2d86723\")) {                    Plotly.newPlot(                        \"07efeef7-d554-438a-ae9a-d2b5b2d86723\",                        [{\"hovertemplate\":\"<b>%{hovertext}</b><br><br>Metric=Alumni<br>University=%{x}<br>Score=%{y}<extra></extra>\",\"hovertext\":[\"Harvard University\",\"Stanford University\",\"Massachusetts Institute of Technology (MIT)\",\"University of Cambridge\",\"University of California, Berkeley\",\"University of Oxford\",\"Princeton University\",\"California Institute of Technology\",\"Columbia University\",\"University of Chicago\"],\"legendgroup\":\"Alumni\",\"line\":{\"color\":\"#636efa\",\"dash\":\"solid\"},\"marker\":{\"symbol\":\"circle\"},\"mode\":\"lines\",\"name\":\"Alumni\",\"orientation\":\"v\",\"showlegend\":true,\"x\":[\"Harvard University\",\"Stanford University\",\"Massachusetts Institute of Technology (MIT)\",\"University of Cambridge\",\"University of California, Berkeley\",\"University of Oxford\",\"Princeton University\",\"California Institute of Technology\",\"Columbia University\",\"University of Chicago\"],\"xaxis\":\"x\",\"y\":[100.0,45.3,71.9,78.2,65.3,49.5,61.2,55.7,59.4,59.0],\"yaxis\":\"y\",\"type\":\"scatter\"},{\"hovertemplate\":\"<b>%{hovertext}</b><br><br>Metric=Award<br>University=%{x}<br>Score=%{y}<extra></extra>\",\"hovertext\":[\"Harvard University\",\"Stanford University\",\"Massachusetts Institute of Technology (MIT)\",\"University of Cambridge\",\"University of California, Berkeley\",\"University of Oxford\",\"Princeton University\",\"California Institute of Technology\",\"Columbia University\",\"University of Chicago\"],\"legendgroup\":\"Award\",\"line\":{\"color\":\"#EF553B\",\"dash\":\"solid\"},\"marker\":{\"symbol\":\"circle\"},\"mode\":\"lines\",\"name\":\"Award\",\"orientation\":\"v\",\"showlegend\":true,\"x\":[\"Harvard University\",\"Stanford University\",\"Massachusetts Institute of Technology (MIT)\",\"University of Cambridge\",\"University of California, Berkeley\",\"University of Oxford\",\"Princeton University\",\"California Institute of Technology\",\"Columbia University\",\"University of Chicago\"],\"xaxis\":\"x\",\"y\":[97.1,88.1,82.8,90.8,76.5,59.7,100.0,63.4,63.2,84.5],\"yaxis\":\"y\",\"type\":\"scatter\"},{\"hovertemplate\":\"<b>%{hovertext}</b><br><br>Metric=Hici<br>University=%{x}<br>Score=%{y}<extra></extra>\",\"hovertext\":[\"Harvard University\",\"Stanford University\",\"Massachusetts Institute of Technology (MIT)\",\"University of Cambridge\",\"University of California, Berkeley\",\"University of Oxford\",\"Princeton University\",\"California Institute of Technology\",\"Columbia University\",\"University of Chicago\"],\"legendgroup\":\"Hici\",\"line\":{\"color\":\"#00cc96\",\"dash\":\"solid\"},\"marker\":{\"symbol\":\"circle\"},\"mode\":\"lines\",\"name\":\"Hici\",\"orientation\":\"v\",\"showlegend\":true,\"x\":[\"Harvard University\",\"Stanford University\",\"Massachusetts Institute of Technology (MIT)\",\"University of Cambridge\",\"University of California, Berkeley\",\"University of Oxford\",\"Princeton University\",\"California Institute of Technology\",\"Columbia University\",\"University of Chicago\"],\"xaxis\":\"x\",\"y\":[100.0,73.1,55.2,45.1,46.9,51.3,26.0,29.8,42.7,32.5],\"yaxis\":\"y\",\"type\":\"scatter\"},{\"hovertemplate\":\"<b>%{hovertext}</b><br><br>Metric=N&S<br>University=%{x}<br>Score=%{y}<extra></extra>\",\"hovertext\":[\"Harvard University\",\"Stanford University\",\"Massachusetts Institute of Technology (MIT)\",\"University of Cambridge\",\"University of California, Berkeley\",\"University of Oxford\",\"Princeton University\",\"California Institute of Technology\",\"Columbia University\",\"University of Chicago\"],\"legendgroup\":\"N&S\",\"line\":{\"color\":\"#ab63fa\",\"dash\":\"solid\"},\"marker\":{\"symbol\":\"circle\"},\"mode\":\"lines\",\"name\":\"N&S\",\"orientation\":\"v\",\"showlegend\":true,\"x\":[\"Harvard University\",\"Stanford University\",\"Massachusetts Institute of Technology (MIT)\",\"University of Cambridge\",\"University of California, Berkeley\",\"University of Oxford\",\"Princeton University\",\"California Institute of Technology\",\"Columbia University\",\"University of Chicago\"],\"xaxis\":\"x\",\"y\":[100.0,83.9,70.8,59.8,62.8,57.2,51.3,57.9,51.9,44.9],\"yaxis\":\"y\",\"type\":\"scatter\"},{\"hovertemplate\":\"<b>%{hovertext}</b><br><br>Metric=PUB<br>University=%{x}<br>Score=%{y}<extra></extra>\",\"hovertext\":[\"Harvard University\",\"Stanford University\",\"Massachusetts Institute of Technology (MIT)\",\"University of Cambridge\",\"University of California, Berkeley\",\"University of Oxford\",\"Princeton University\",\"California Institute of Technology\",\"Columbia University\",\"University of Chicago\"],\"legendgroup\":\"PUB\",\"line\":{\"color\":\"#FFA15A\",\"dash\":\"solid\"},\"marker\":{\"symbol\":\"circle\"},\"mode\":\"lines\",\"name\":\"PUB\",\"orientation\":\"v\",\"showlegend\":true,\"x\":[\"Harvard University\",\"Stanford University\",\"Massachusetts Institute of Technology (MIT)\",\"University of Cambridge\",\"University of California, Berkeley\",\"University of Oxford\",\"Princeton University\",\"California Institute of Technology\",\"Columbia University\",\"University of Chicago\"],\"xaxis\":\"x\",\"y\":[100.0,73.1,59.1,67.2,57.1,77.1,42.3,41.0,67.0,53.0],\"yaxis\":\"y\",\"type\":\"scatter\"},{\"hovertemplate\":\"<b>%{hovertext}</b><br><br>Metric=PCP<br>University=%{x}<br>Score=%{y}<extra></extra>\",\"hovertext\":[\"Harvard University\",\"Stanford University\",\"Massachusetts Institute of Technology (MIT)\",\"University of Cambridge\",\"University of California, Berkeley\",\"University of Oxford\",\"Princeton University\",\"California Institute of Technology\",\"Columbia University\",\"University of Chicago\"],\"legendgroup\":\"PCP\",\"line\":{\"color\":\"#19d3f3\",\"dash\":\"solid\"},\"marker\":{\"symbol\":\"circle\"},\"mode\":\"lines\",\"name\":\"PCP\",\"orientation\":\"v\",\"showlegend\":true,\"x\":[\"Harvard University\",\"Stanford University\",\"Massachusetts Institute of Technology (MIT)\",\"University of Cambridge\",\"University of California, Berkeley\",\"University of Oxford\",\"Princeton University\",\"California Institute of Technology\",\"Columbia University\",\"University of Chicago\"],\"xaxis\":\"x\",\"y\":[85.7,59.6,73.6,60.6,55.5,47.9,75.3,100.0,31.6,44.2],\"yaxis\":\"y\",\"type\":\"scatter\"}],                        {\"template\":{\"data\":{\"histogram2dcontour\":[{\"type\":\"histogram2dcontour\",\"colorbar\":{\"outlinewidth\":0,\"ticks\":\"\"},\"colorscale\":[[0.0,\"#0d0887\"],[0.1111111111111111,\"#46039f\"],[0.2222222222222222,\"#7201a8\"],[0.3333333333333333,\"#9c179e\"],[0.4444444444444444,\"#bd3786\"],[0.5555555555555556,\"#d8576b\"],[0.6666666666666666,\"#ed7953\"],[0.7777777777777778,\"#fb9f3a\"],[0.8888888888888888,\"#fdca26\"],[1.0,\"#f0f921\"]]}],\"choropleth\":[{\"type\":\"choropleth\",\"colorbar\":{\"outlinewidth\":0,\"ticks\":\"\"}}],\"histogram2d\":[{\"type\":\"histogram2d\",\"colorbar\":{\"outlinewidth\":0,\"ticks\":\"\"},\"colorscale\":[[0.0,\"#0d0887\"],[0.1111111111111111,\"#46039f\"],[0.2222222222222222,\"#7201a8\"],[0.3333333333333333,\"#9c179e\"],[0.4444444444444444,\"#bd3786\"],[0.5555555555555556,\"#d8576b\"],[0.6666666666666666,\"#ed7953\"],[0.7777777777777778,\"#fb9f3a\"],[0.8888888888888888,\"#fdca26\"],[1.0,\"#f0f921\"]]}],\"heatmap\":[{\"type\":\"heatmap\",\"colorbar\":{\"outlinewidth\":0,\"ticks\":\"\"},\"colorscale\":[[0.0,\"#0d0887\"],[0.1111111111111111,\"#46039f\"],[0.2222222222222222,\"#7201a8\"],[0.3333333333333333,\"#9c179e\"],[0.4444444444444444,\"#bd3786\"],[0.5555555555555556,\"#d8576b\"],[0.6666666666666666,\"#ed7953\"],[0.7777777777777778,\"#fb9f3a\"],[0.8888888888888888,\"#fdca26\"],[1.0,\"#f0f921\"]]}],\"heatmapgl\":[{\"type\":\"heatmapgl\",\"colorbar\":{\"outlinewidth\":0,\"ticks\":\"\"},\"colorscale\":[[0.0,\"#0d0887\"],[0.1111111111111111,\"#46039f\"],[0.2222222222222222,\"#7201a8\"],[0.3333333333333333,\"#9c179e\"],[0.4444444444444444,\"#bd3786\"],[0.5555555555555556,\"#d8576b\"],[0.6666666666666666,\"#ed7953\"],[0.7777777777777778,\"#fb9f3a\"],[0.8888888888888888,\"#fdca26\"],[1.0,\"#f0f921\"]]}],\"contourcarpet\":[{\"type\":\"contourcarpet\",\"colorbar\":{\"outlinewidth\":0,\"ticks\":\"\"}}],\"contour\":[{\"type\":\"contour\",\"colorbar\":{\"outlinewidth\":0,\"ticks\":\"\"},\"colorscale\":[[0.0,\"#0d0887\"],[0.1111111111111111,\"#46039f\"],[0.2222222222222222,\"#7201a8\"],[0.3333333333333333,\"#9c179e\"],[0.4444444444444444,\"#bd3786\"],[0.5555555555555556,\"#d8576b\"],[0.6666666666666666,\"#ed7953\"],[0.7777777777777778,\"#fb9f3a\"],[0.8888888888888888,\"#fdca26\"],[1.0,\"#f0f921\"]]}],\"surface\":[{\"type\":\"surface\",\"colorbar\":{\"outlinewidth\":0,\"ticks\":\"\"},\"colorscale\":[[0.0,\"#0d0887\"],[0.1111111111111111,\"#46039f\"],[0.2222222222222222,\"#7201a8\"],[0.3333333333333333,\"#9c179e\"],[0.4444444444444444,\"#bd3786\"],[0.5555555555555556,\"#d8576b\"],[0.6666666666666666,\"#ed7953\"],[0.7777777777777778,\"#fb9f3a\"],[0.8888888888888888,\"#fdca26\"],[1.0,\"#f0f921\"]]}],\"mesh3d\":[{\"type\":\"mesh3d\",\"colorbar\":{\"outlinewidth\":0,\"ticks\":\"\"}}],\"scatter\":[{\"fillpattern\":{\"fillmode\":\"overlay\",\"size\":10,\"solidity\":0.2},\"type\":\"scatter\"}],\"parcoords\":[{\"type\":\"parcoords\",\"line\":{\"colorbar\":{\"outlinewidth\":0,\"ticks\":\"\"}}}],\"scatterpolargl\":[{\"type\":\"scatterpolargl\",\"marker\":{\"colorbar\":{\"outlinewidth\":0,\"ticks\":\"\"}}}],\"bar\":[{\"error_x\":{\"color\":\"#2a3f5f\"},\"error_y\":{\"color\":\"#2a3f5f\"},\"marker\":{\"line\":{\"color\":\"#E5ECF6\",\"width\":0.5},\"pattern\":{\"fillmode\":\"overlay\",\"size\":10,\"solidity\":0.2}},\"type\":\"bar\"}],\"scattergeo\":[{\"type\":\"scattergeo\",\"marker\":{\"colorbar\":{\"outlinewidth\":0,\"ticks\":\"\"}}}],\"scatterpolar\":[{\"type\":\"scatterpolar\",\"marker\":{\"colorbar\":{\"outlinewidth\":0,\"ticks\":\"\"}}}],\"histogram\":[{\"marker\":{\"pattern\":{\"fillmode\":\"overlay\",\"size\":10,\"solidity\":0.2}},\"type\":\"histogram\"}],\"scattergl\":[{\"type\":\"scattergl\",\"marker\":{\"colorbar\":{\"outlinewidth\":0,\"ticks\":\"\"}}}],\"scatter3d\":[{\"type\":\"scatter3d\",\"line\":{\"colorbar\":{\"outlinewidth\":0,\"ticks\":\"\"}},\"marker\":{\"colorbar\":{\"outlinewidth\":0,\"ticks\":\"\"}}}],\"scattermapbox\":[{\"type\":\"scattermapbox\",\"marker\":{\"colorbar\":{\"outlinewidth\":0,\"ticks\":\"\"}}}],\"scatterternary\":[{\"type\":\"scatterternary\",\"marker\":{\"colorbar\":{\"outlinewidth\":0,\"ticks\":\"\"}}}],\"scattercarpet\":[{\"type\":\"scattercarpet\",\"marker\":{\"colorbar\":{\"outlinewidth\":0,\"ticks\":\"\"}}}],\"carpet\":[{\"aaxis\":{\"endlinecolor\":\"#2a3f5f\",\"gridcolor\":\"white\",\"linecolor\":\"white\",\"minorgridcolor\":\"white\",\"startlinecolor\":\"#2a3f5f\"},\"baxis\":{\"endlinecolor\":\"#2a3f5f\",\"gridcolor\":\"white\",\"linecolor\":\"white\",\"minorgridcolor\":\"white\",\"startlinecolor\":\"#2a3f5f\"},\"type\":\"carpet\"}],\"table\":[{\"cells\":{\"fill\":{\"color\":\"#EBF0F8\"},\"line\":{\"color\":\"white\"}},\"header\":{\"fill\":{\"color\":\"#C8D4E3\"},\"line\":{\"color\":\"white\"}},\"type\":\"table\"}],\"barpolar\":[{\"marker\":{\"line\":{\"color\":\"#E5ECF6\",\"width\":0.5},\"pattern\":{\"fillmode\":\"overlay\",\"size\":10,\"solidity\":0.2}},\"type\":\"barpolar\"}],\"pie\":[{\"automargin\":true,\"type\":\"pie\"}]},\"layout\":{\"autotypenumbers\":\"strict\",\"colorway\":[\"#636efa\",\"#EF553B\",\"#00cc96\",\"#ab63fa\",\"#FFA15A\",\"#19d3f3\",\"#FF6692\",\"#B6E880\",\"#FF97FF\",\"#FECB52\"],\"font\":{\"color\":\"#2a3f5f\"},\"hovermode\":\"closest\",\"hoverlabel\":{\"align\":\"left\"},\"paper_bgcolor\":\"white\",\"plot_bgcolor\":\"#E5ECF6\",\"polar\":{\"bgcolor\":\"#E5ECF6\",\"angularaxis\":{\"gridcolor\":\"white\",\"linecolor\":\"white\",\"ticks\":\"\"},\"radialaxis\":{\"gridcolor\":\"white\",\"linecolor\":\"white\",\"ticks\":\"\"}},\"ternary\":{\"bgcolor\":\"#E5ECF6\",\"aaxis\":{\"gridcolor\":\"white\",\"linecolor\":\"white\",\"ticks\":\"\"},\"baxis\":{\"gridcolor\":\"white\",\"linecolor\":\"white\",\"ticks\":\"\"},\"caxis\":{\"gridcolor\":\"white\",\"linecolor\":\"white\",\"ticks\":\"\"}},\"coloraxis\":{\"colorbar\":{\"outlinewidth\":0,\"ticks\":\"\"}},\"colorscale\":{\"sequential\":[[0.0,\"#0d0887\"],[0.1111111111111111,\"#46039f\"],[0.2222222222222222,\"#7201a8\"],[0.3333333333333333,\"#9c179e\"],[0.4444444444444444,\"#bd3786\"],[0.5555555555555556,\"#d8576b\"],[0.6666666666666666,\"#ed7953\"],[0.7777777777777778,\"#fb9f3a\"],[0.8888888888888888,\"#fdca26\"],[1.0,\"#f0f921\"]],\"sequentialminus\":[[0.0,\"#0d0887\"],[0.1111111111111111,\"#46039f\"],[0.2222222222222222,\"#7201a8\"],[0.3333333333333333,\"#9c179e\"],[0.4444444444444444,\"#bd3786\"],[0.5555555555555556,\"#d8576b\"],[0.6666666666666666,\"#ed7953\"],[0.7777777777777778,\"#fb9f3a\"],[0.8888888888888888,\"#fdca26\"],[1.0,\"#f0f921\"]],\"diverging\":[[0,\"#8e0152\"],[0.1,\"#c51b7d\"],[0.2,\"#de77ae\"],[0.3,\"#f1b6da\"],[0.4,\"#fde0ef\"],[0.5,\"#f7f7f7\"],[0.6,\"#e6f5d0\"],[0.7,\"#b8e186\"],[0.8,\"#7fbc41\"],[0.9,\"#4d9221\"],[1,\"#276419\"]]},\"xaxis\":{\"gridcolor\":\"white\",\"linecolor\":\"white\",\"ticks\":\"\",\"title\":{\"standoff\":15},\"zerolinecolor\":\"white\",\"automargin\":true,\"zerolinewidth\":2},\"yaxis\":{\"gridcolor\":\"white\",\"linecolor\":\"white\",\"ticks\":\"\",\"title\":{\"standoff\":15},\"zerolinecolor\":\"white\",\"automargin\":true,\"zerolinewidth\":2},\"scene\":{\"xaxis\":{\"backgroundcolor\":\"#E5ECF6\",\"gridcolor\":\"white\",\"linecolor\":\"white\",\"showbackground\":true,\"ticks\":\"\",\"zerolinecolor\":\"white\",\"gridwidth\":2},\"yaxis\":{\"backgroundcolor\":\"#E5ECF6\",\"gridcolor\":\"white\",\"linecolor\":\"white\",\"showbackground\":true,\"ticks\":\"\",\"zerolinecolor\":\"white\",\"gridwidth\":2},\"zaxis\":{\"backgroundcolor\":\"#E5ECF6\",\"gridcolor\":\"white\",\"linecolor\":\"white\",\"showbackground\":true,\"ticks\":\"\",\"zerolinecolor\":\"white\",\"gridwidth\":2}},\"shapedefaults\":{\"line\":{\"color\":\"#2a3f5f\"}},\"annotationdefaults\":{\"arrowcolor\":\"#2a3f5f\",\"arrowhead\":0,\"arrowwidth\":1},\"geo\":{\"bgcolor\":\"white\",\"landcolor\":\"#E5ECF6\",\"subunitcolor\":\"white\",\"showland\":true,\"showlakes\":true,\"lakecolor\":\"white\"},\"title\":{\"x\":0.05},\"mapbox\":{\"style\":\"light\"}}},\"xaxis\":{\"anchor\":\"y\",\"domain\":[0.0,1.0],\"title\":{\"text\":\"University\"},\"tickangle\":-45},\"yaxis\":{\"anchor\":\"x\",\"domain\":[0.0,1.0],\"title\":{\"text\":\"Score\"}},\"legend\":{\"title\":{\"text\":\"Metric\"},\"tracegroupgap\":0},\"title\":{\"text\":\"Comparison of Alumni, Award, Hici, N&S, PUB, and PCP for Top 10 Universities\"}},                        {\"responsive\": true}                    ).then(function(){\n",
       "                            \n",
       "var gd = document.getElementById('07efeef7-d554-438a-ae9a-d2b5b2d86723');\n",
       "var x = new MutationObserver(function (mutations, observer) {{\n",
       "        var display = window.getComputedStyle(gd).display;\n",
       "        if (!display || display === 'none') {{\n",
       "            console.log([gd, 'removed!']);\n",
       "            Plotly.purge(gd);\n",
       "            observer.disconnect();\n",
       "        }}\n",
       "}});\n",
       "\n",
       "// Listen for the removal of the full notebook cells\n",
       "var notebookContainer = gd.closest('#notebook-container');\n",
       "if (notebookContainer) {{\n",
       "    x.observe(notebookContainer, {childList: true});\n",
       "}}\n",
       "\n",
       "// Listen for the clearing of the current output cell\n",
       "var outputEl = gd.closest('.output');\n",
       "if (outputEl) {{\n",
       "    x.observe(outputEl, {childList: true});\n",
       "}}\n",
       "\n",
       "                        })                };                });            </script>        </div>"
      ]
     },
     "metadata": {},
     "output_type": "display_data"
    }
   ],
   "source": [
    "university_rank['Rank'] = pd.to_numeric(university_rank['Rank'], errors='coerce')\n",
    "\n",
    "university_rank = university_rank.dropna(subset=['Rank'])\n",
    "\n",
    "# Select the top 10 universities by rank\n",
    "top_10 = university_rank.nsmallest(10, 'Rank')\n",
    "\n",
    "# Melt the DataFrame to long format for plotting\n",
    "top_10_melted = top_10.melt(id_vars='University_Name', \n",
    "                             value_vars=['Alumni', 'Award', 'Hici', 'N&S', 'PUB', 'PCP'],\n",
    "                             var_name='Metric', value_name='Score')\n",
    "\n",
    "# Create the line plot\n",
    "fig = px.line(top_10_melted, \n",
    "              x='University_Name', \n",
    "              y='Score', \n",
    "              color='Metric', \n",
    "              title='Comparison of Alumni, Award, Hici, N&S, PUB, and PCP for Top 10 Universities',\n",
    "              labels={'Score': 'Score', 'University_Name': 'University'},\n",
    "              hover_name='University_Name')\n",
    "\n",
    "# Update layout for better appearance\n",
    "fig.update_layout(\n",
    "    xaxis_title='University',\n",
    "    yaxis_title='Score',\n",
    "    xaxis_tickangle=-45,\n",
    "    legend_title='Metric',\n",
    ")\n",
    "\n",
    "# Show the plot\n",
    "fig.show()"
   ]
  },
  {
   "cell_type": "markdown",
   "id": "43c77b4f",
   "metadata": {},
   "source": [
    "## 9. General Question \n",
    "1. What are the top five universities?\n",
    "\n",
    "2. Which university boasts the highest number of accomplished alumni?\n",
    "\n",
    "3. Which university has received the most awards? Can you list the top five?\n",
    "\n",
    "4. Which five universities have the highest number of cited researchers?\n",
    "\n",
    "5. What are the top five universities in terms of Nature and Science achievements?\n",
    "\n",
    "6. Which universities have published the most research papers? Can you provide the top ten?\n",
    "\n",
    "7. Which universities demonstrate the best performance on a per capita basis?\n",
    "\n",
    "8. Which five universities rank lowest overall?"
   ]
  },
  {
   "cell_type": "code",
   "execution_count": 59,
   "id": "b9c35c7e",
   "metadata": {},
   "outputs": [
    {
     "data": {
      "text/html": [
       "<div>\n",
       "<style scoped>\n",
       "    .dataframe tbody tr th:only-of-type {\n",
       "        vertical-align: middle;\n",
       "    }\n",
       "\n",
       "    .dataframe tbody tr th {\n",
       "        vertical-align: top;\n",
       "    }\n",
       "\n",
       "    .dataframe thead th {\n",
       "        text-align: right;\n",
       "    }\n",
       "</style>\n",
       "<table border=\"1\" class=\"dataframe\">\n",
       "  <thead>\n",
       "    <tr style=\"text-align: right;\">\n",
       "      <th></th>\n",
       "      <th>University_Name</th>\n",
       "      <th>Rank</th>\n",
       "    </tr>\n",
       "  </thead>\n",
       "  <tbody>\n",
       "    <tr>\n",
       "      <th>0</th>\n",
       "      <td>Harvard University</td>\n",
       "      <td>1.0</td>\n",
       "    </tr>\n",
       "    <tr>\n",
       "      <th>1</th>\n",
       "      <td>Stanford University</td>\n",
       "      <td>2.0</td>\n",
       "    </tr>\n",
       "    <tr>\n",
       "      <th>2</th>\n",
       "      <td>Massachusetts Institute of Technology (MIT)</td>\n",
       "      <td>3.0</td>\n",
       "    </tr>\n",
       "    <tr>\n",
       "      <th>3</th>\n",
       "      <td>University of Cambridge</td>\n",
       "      <td>4.0</td>\n",
       "    </tr>\n",
       "    <tr>\n",
       "      <th>4</th>\n",
       "      <td>University of California, Berkeley</td>\n",
       "      <td>5.0</td>\n",
       "    </tr>\n",
       "  </tbody>\n",
       "</table>\n",
       "</div>"
      ],
      "text/plain": [
       "                               University_Name  Rank\n",
       "0                           Harvard University   1.0\n",
       "1                          Stanford University   2.0\n",
       "2  Massachusetts Institute of Technology (MIT)   3.0\n",
       "3                      University of Cambridge   4.0\n",
       "4           University of California, Berkeley   5.0"
      ]
     },
     "execution_count": 59,
     "metadata": {},
     "output_type": "execute_result"
    }
   ],
   "source": [
    "# 1) What are the top five universities?\n",
    "top_5_universities = university_rank[['University_Name', 'Rank']].head(5)\n",
    "top_5_universities"
   ]
  },
  {
   "cell_type": "code",
   "execution_count": 51,
   "id": "817b296c",
   "metadata": {},
   "outputs": [
    {
     "data": {
      "text/html": [
       "<div>\n",
       "<style scoped>\n",
       "    .dataframe tbody tr th:only-of-type {\n",
       "        vertical-align: middle;\n",
       "    }\n",
       "\n",
       "    .dataframe tbody tr th {\n",
       "        vertical-align: top;\n",
       "    }\n",
       "\n",
       "    .dataframe thead th {\n",
       "        text-align: right;\n",
       "    }\n",
       "</style>\n",
       "<table border=\"1\" class=\"dataframe\">\n",
       "  <thead>\n",
       "    <tr style=\"text-align: right;\">\n",
       "      <th></th>\n",
       "      <th>University_Name</th>\n",
       "      <th>Alumni</th>\n",
       "    </tr>\n",
       "  </thead>\n",
       "  <tbody>\n",
       "    <tr>\n",
       "      <th>0</th>\n",
       "      <td>Harvard University</td>\n",
       "      <td>100.0</td>\n",
       "    </tr>\n",
       "  </tbody>\n",
       "</table>\n",
       "</div>"
      ],
      "text/plain": [
       "      University_Name  Alumni\n",
       "0  Harvard University   100.0"
      ]
     },
     "execution_count": 51,
     "metadata": {},
     "output_type": "execute_result"
    }
   ],
   "source": [
    "# 2) Which university boasts the highest number of accomplished alumni?\n",
    "most_accomplished_alumni = university_rank[university_rank['Alumni'] == university_rank['Alumni'].max()][['University_Name', 'Alumni']]\n",
    "most_accomplished_alumni "
   ]
  },
  {
   "cell_type": "code",
   "execution_count": 52,
   "id": "0f687cf4",
   "metadata": {},
   "outputs": [
    {
     "data": {
      "text/html": [
       "<div>\n",
       "<style scoped>\n",
       "    .dataframe tbody tr th:only-of-type {\n",
       "        vertical-align: middle;\n",
       "    }\n",
       "\n",
       "    .dataframe tbody tr th {\n",
       "        vertical-align: top;\n",
       "    }\n",
       "\n",
       "    .dataframe thead th {\n",
       "        text-align: right;\n",
       "    }\n",
       "</style>\n",
       "<table border=\"1\" class=\"dataframe\">\n",
       "  <thead>\n",
       "    <tr style=\"text-align: right;\">\n",
       "      <th></th>\n",
       "      <th>University_Name</th>\n",
       "      <th>Award</th>\n",
       "    </tr>\n",
       "  </thead>\n",
       "  <tbody>\n",
       "    <tr>\n",
       "      <th>6</th>\n",
       "      <td>Princeton University</td>\n",
       "      <td>100.0</td>\n",
       "    </tr>\n",
       "    <tr>\n",
       "      <th>0</th>\n",
       "      <td>Harvard University</td>\n",
       "      <td>97.1</td>\n",
       "    </tr>\n",
       "    <tr>\n",
       "      <th>3</th>\n",
       "      <td>University of Cambridge</td>\n",
       "      <td>90.8</td>\n",
       "    </tr>\n",
       "    <tr>\n",
       "      <th>1</th>\n",
       "      <td>Stanford University</td>\n",
       "      <td>88.1</td>\n",
       "    </tr>\n",
       "    <tr>\n",
       "      <th>9</th>\n",
       "      <td>University of Chicago</td>\n",
       "      <td>84.5</td>\n",
       "    </tr>\n",
       "  </tbody>\n",
       "</table>\n",
       "</div>"
      ],
      "text/plain": [
       "           University_Name  Award\n",
       "6     Princeton University  100.0\n",
       "0       Harvard University   97.1\n",
       "3  University of Cambridge   90.8\n",
       "1      Stanford University   88.1\n",
       "9    University of Chicago   84.5"
      ]
     },
     "execution_count": 52,
     "metadata": {},
     "output_type": "execute_result"
    }
   ],
   "source": [
    "# 3) Which university has received the most awards? Can you list the top five?\n",
    "top_5_award_universities = university_rank.sort_values(by='Award', ascending=False).head(5)[['University_Name', 'Award']]\n",
    "top_5_award_universities"
   ]
  },
  {
   "cell_type": "code",
   "execution_count": 53,
   "id": "ac72d2e4",
   "metadata": {},
   "outputs": [
    {
     "data": {
      "text/html": [
       "<div>\n",
       "<style scoped>\n",
       "    .dataframe tbody tr th:only-of-type {\n",
       "        vertical-align: middle;\n",
       "    }\n",
       "\n",
       "    .dataframe tbody tr th {\n",
       "        vertical-align: top;\n",
       "    }\n",
       "\n",
       "    .dataframe thead th {\n",
       "        text-align: right;\n",
       "    }\n",
       "</style>\n",
       "<table border=\"1\" class=\"dataframe\">\n",
       "  <thead>\n",
       "    <tr style=\"text-align: right;\">\n",
       "      <th></th>\n",
       "      <th>University_Name</th>\n",
       "      <th>Hici</th>\n",
       "    </tr>\n",
       "  </thead>\n",
       "  <tbody>\n",
       "    <tr>\n",
       "      <th>0</th>\n",
       "      <td>Harvard University</td>\n",
       "      <td>100.0</td>\n",
       "    </tr>\n",
       "    <tr>\n",
       "      <th>1</th>\n",
       "      <td>Stanford University</td>\n",
       "      <td>73.1</td>\n",
       "    </tr>\n",
       "    <tr>\n",
       "      <th>21</th>\n",
       "      <td>Tsinghua University</td>\n",
       "      <td>57.5</td>\n",
       "    </tr>\n",
       "    <tr>\n",
       "      <th>2</th>\n",
       "      <td>Massachusetts Institute of Technology (MIT)</td>\n",
       "      <td>55.2</td>\n",
       "    </tr>\n",
       "    <tr>\n",
       "      <th>18</th>\n",
       "      <td>University of California, San Diego</td>\n",
       "      <td>54.5</td>\n",
       "    </tr>\n",
       "  </tbody>\n",
       "</table>\n",
       "</div>"
      ],
      "text/plain": [
       "                                University_Name   Hici\n",
       "0                            Harvard University  100.0\n",
       "1                           Stanford University   73.1\n",
       "21                          Tsinghua University   57.5\n",
       "2   Massachusetts Institute of Technology (MIT)   55.2\n",
       "18          University of California, San Diego   54.5"
      ]
     },
     "execution_count": 53,
     "metadata": {},
     "output_type": "execute_result"
    }
   ],
   "source": [
    "# 4) Which five universities have the highest number of cited researchers?\n",
    "top_5_hici_universities = university_rank.sort_values(by='Hici', ascending=False).head(5)[['University_Name', 'Hici']]\n",
    "top_5_hici_universities"
   ]
  },
  {
   "cell_type": "code",
   "execution_count": 54,
   "id": "516b976b",
   "metadata": {},
   "outputs": [
    {
     "data": {
      "text/html": [
       "<div>\n",
       "<style scoped>\n",
       "    .dataframe tbody tr th:only-of-type {\n",
       "        vertical-align: middle;\n",
       "    }\n",
       "\n",
       "    .dataframe tbody tr th {\n",
       "        vertical-align: top;\n",
       "    }\n",
       "\n",
       "    .dataframe thead th {\n",
       "        text-align: right;\n",
       "    }\n",
       "</style>\n",
       "<table border=\"1\" class=\"dataframe\">\n",
       "  <thead>\n",
       "    <tr style=\"text-align: right;\">\n",
       "      <th></th>\n",
       "      <th>University_Name</th>\n",
       "      <th>N&amp;S</th>\n",
       "    </tr>\n",
       "  </thead>\n",
       "  <tbody>\n",
       "    <tr>\n",
       "      <th>0</th>\n",
       "      <td>Harvard University</td>\n",
       "      <td>100.0</td>\n",
       "    </tr>\n",
       "    <tr>\n",
       "      <th>1</th>\n",
       "      <td>Stanford University</td>\n",
       "      <td>83.9</td>\n",
       "    </tr>\n",
       "    <tr>\n",
       "      <th>2</th>\n",
       "      <td>Massachusetts Institute of Technology (MIT)</td>\n",
       "      <td>70.8</td>\n",
       "    </tr>\n",
       "    <tr>\n",
       "      <th>4</th>\n",
       "      <td>University of California, Berkeley</td>\n",
       "      <td>62.8</td>\n",
       "    </tr>\n",
       "    <tr>\n",
       "      <th>3</th>\n",
       "      <td>University of Cambridge</td>\n",
       "      <td>59.8</td>\n",
       "    </tr>\n",
       "  </tbody>\n",
       "</table>\n",
       "</div>"
      ],
      "text/plain": [
       "                               University_Name    N&S\n",
       "0                           Harvard University  100.0\n",
       "1                          Stanford University   83.9\n",
       "2  Massachusetts Institute of Technology (MIT)   70.8\n",
       "4           University of California, Berkeley   62.8\n",
       "3                      University of Cambridge   59.8"
      ]
     },
     "execution_count": 54,
     "metadata": {},
     "output_type": "execute_result"
    }
   ],
   "source": [
    "# 5) What are the top five universities in terms of Nature and Science achievements?\n",
    "top_5_ns_universities = university_rank.sort_values(by='N&S', ascending=False).head(5)[['University_Name', 'N&S']]\n",
    "top_5_ns_universities"
   ]
  },
  {
   "cell_type": "code",
   "execution_count": 55,
   "id": "04380c47",
   "metadata": {},
   "outputs": [
    {
     "data": {
      "text/html": [
       "<div>\n",
       "<style scoped>\n",
       "    .dataframe tbody tr th:only-of-type {\n",
       "        vertical-align: middle;\n",
       "    }\n",
       "\n",
       "    .dataframe tbody tr th {\n",
       "        vertical-align: top;\n",
       "    }\n",
       "\n",
       "    .dataframe thead th {\n",
       "        text-align: right;\n",
       "    }\n",
       "</style>\n",
       "<table border=\"1\" class=\"dataframe\">\n",
       "  <thead>\n",
       "    <tr style=\"text-align: right;\">\n",
       "      <th></th>\n",
       "      <th>University_Name</th>\n",
       "      <th>PUB</th>\n",
       "    </tr>\n",
       "  </thead>\n",
       "  <tbody>\n",
       "    <tr>\n",
       "      <th>0</th>\n",
       "      <td>Harvard University</td>\n",
       "      <td>100.0</td>\n",
       "    </tr>\n",
       "    <tr>\n",
       "      <th>26</th>\n",
       "      <td>Zhejiang University</td>\n",
       "      <td>99.5</td>\n",
       "    </tr>\n",
       "    <tr>\n",
       "      <th>37</th>\n",
       "      <td>Shanghai Jiao Tong University</td>\n",
       "      <td>95.7</td>\n",
       "    </tr>\n",
       "    <tr>\n",
       "      <th>23</th>\n",
       "      <td>Peking University</td>\n",
       "      <td>89.2</td>\n",
       "    </tr>\n",
       "    <tr>\n",
       "      <th>21</th>\n",
       "      <td>Tsinghua University</td>\n",
       "      <td>86.2</td>\n",
       "    </tr>\n",
       "    <tr>\n",
       "      <th>72</th>\n",
       "      <td>Sun Yat-sen University</td>\n",
       "      <td>85.9</td>\n",
       "    </tr>\n",
       "    <tr>\n",
       "      <th>25</th>\n",
       "      <td>University of Toronto</td>\n",
       "      <td>82.0</td>\n",
       "    </tr>\n",
       "    <tr>\n",
       "      <th>93</th>\n",
       "      <td>Central South University</td>\n",
       "      <td>81.6</td>\n",
       "    </tr>\n",
       "    <tr>\n",
       "      <th>97</th>\n",
       "      <td>Sichuan University</td>\n",
       "      <td>81.0</td>\n",
       "    </tr>\n",
       "    <tr>\n",
       "      <th>50</th>\n",
       "      <td>Fudan University</td>\n",
       "      <td>80.5</td>\n",
       "    </tr>\n",
       "  </tbody>\n",
       "</table>\n",
       "</div>"
      ],
      "text/plain": [
       "                  University_Name    PUB\n",
       "0              Harvard University  100.0\n",
       "26            Zhejiang University   99.5\n",
       "37  Shanghai Jiao Tong University   95.7\n",
       "23              Peking University   89.2\n",
       "21            Tsinghua University   86.2\n",
       "72         Sun Yat-sen University   85.9\n",
       "25          University of Toronto   82.0\n",
       "93       Central South University   81.6\n",
       "97             Sichuan University   81.0\n",
       "50               Fudan University   80.5"
      ]
     },
     "execution_count": 55,
     "metadata": {},
     "output_type": "execute_result"
    }
   ],
   "source": [
    "\n",
    "# 6) Which universities have published the most research papers? Can you provide the top ten?\n",
    "top_10_publication_universities = university_rank.sort_values(by='PUB', ascending=False).head(10)[['University_Name', 'PUB']]\n",
    "top_10_publication_universities"
   ]
  },
  {
   "cell_type": "code",
   "execution_count": 56,
   "id": "750b66e6",
   "metadata": {},
   "outputs": [
    {
     "data": {
      "text/html": [
       "<div>\n",
       "<style scoped>\n",
       "    .dataframe tbody tr th:only-of-type {\n",
       "        vertical-align: middle;\n",
       "    }\n",
       "\n",
       "    .dataframe tbody tr th {\n",
       "        vertical-align: top;\n",
       "    }\n",
       "\n",
       "    .dataframe thead th {\n",
       "        text-align: right;\n",
       "    }\n",
       "</style>\n",
       "<table border=\"1\" class=\"dataframe\">\n",
       "  <thead>\n",
       "    <tr style=\"text-align: right;\">\n",
       "      <th></th>\n",
       "      <th>University_Name</th>\n",
       "      <th>PCP</th>\n",
       "    </tr>\n",
       "  </thead>\n",
       "  <tbody>\n",
       "    <tr>\n",
       "      <th>7</th>\n",
       "      <td>California Institute of Technology</td>\n",
       "      <td>100.0</td>\n",
       "    </tr>\n",
       "    <tr>\n",
       "      <th>0</th>\n",
       "      <td>Harvard University</td>\n",
       "      <td>85.7</td>\n",
       "    </tr>\n",
       "    <tr>\n",
       "      <th>6</th>\n",
       "      <td>Princeton University</td>\n",
       "      <td>75.3</td>\n",
       "    </tr>\n",
       "    <tr>\n",
       "      <th>28</th>\n",
       "      <td>Rockefeller University</td>\n",
       "      <td>74.4</td>\n",
       "    </tr>\n",
       "    <tr>\n",
       "      <th>2</th>\n",
       "      <td>Massachusetts Institute of Technology (MIT)</td>\n",
       "      <td>73.6</td>\n",
       "    </tr>\n",
       "    <tr>\n",
       "      <th>3</th>\n",
       "      <td>University of Cambridge</td>\n",
       "      <td>60.6</td>\n",
       "    </tr>\n",
       "    <tr>\n",
       "      <th>1</th>\n",
       "      <td>Stanford University</td>\n",
       "      <td>59.6</td>\n",
       "    </tr>\n",
       "    <tr>\n",
       "      <th>4</th>\n",
       "      <td>University of California, Berkeley</td>\n",
       "      <td>55.5</td>\n",
       "    </tr>\n",
       "    <tr>\n",
       "      <th>86</th>\n",
       "      <td>The University of Texas M. D. Anderson Cancer ...</td>\n",
       "      <td>53.7</td>\n",
       "    </tr>\n",
       "    <tr>\n",
       "      <th>42</th>\n",
       "      <td>Karolinska Institute</td>\n",
       "      <td>53.2</td>\n",
       "    </tr>\n",
       "  </tbody>\n",
       "</table>\n",
       "</div>"
      ],
      "text/plain": [
       "                                      University_Name    PCP\n",
       "7                  California Institute of Technology  100.0\n",
       "0                                  Harvard University   85.7\n",
       "6                                Princeton University   75.3\n",
       "28                             Rockefeller University   74.4\n",
       "2         Massachusetts Institute of Technology (MIT)   73.6\n",
       "3                             University of Cambridge   60.6\n",
       "1                                 Stanford University   59.6\n",
       "4                  University of California, Berkeley   55.5\n",
       "86  The University of Texas M. D. Anderson Cancer ...   53.7\n",
       "42                               Karolinska Institute   53.2"
      ]
     },
     "execution_count": 56,
     "metadata": {},
     "output_type": "execute_result"
    }
   ],
   "source": [
    "# 7) Which universities demonstrate the best performance on a per capita basis?\n",
    "top_10_pcp_universities = university_rank.sort_values(by='PCP', ascending=False).head(10)[['University_Name', 'PCP']]\n",
    "top_10_pcp_universities"
   ]
  },
  {
   "cell_type": "code",
   "execution_count": 57,
   "id": "edc6a897",
   "metadata": {},
   "outputs": [
    {
     "data": {
      "text/html": [
       "<div>\n",
       "<style scoped>\n",
       "    .dataframe tbody tr th:only-of-type {\n",
       "        vertical-align: middle;\n",
       "    }\n",
       "\n",
       "    .dataframe tbody tr th {\n",
       "        vertical-align: top;\n",
       "    }\n",
       "\n",
       "    .dataframe thead th {\n",
       "        text-align: right;\n",
       "    }\n",
       "</style>\n",
       "<table border=\"1\" class=\"dataframe\">\n",
       "  <thead>\n",
       "    <tr style=\"text-align: right;\">\n",
       "      <th></th>\n",
       "      <th>University_Name</th>\n",
       "      <th>Rank</th>\n",
       "    </tr>\n",
       "  </thead>\n",
       "  <tbody>\n",
       "    <tr>\n",
       "      <th>95</th>\n",
       "      <td>University of Basel</td>\n",
       "      <td>95.0</td>\n",
       "    </tr>\n",
       "    <tr>\n",
       "      <th>96</th>\n",
       "      <td>University of Bristol</td>\n",
       "      <td>97.0</td>\n",
       "    </tr>\n",
       "    <tr>\n",
       "      <th>97</th>\n",
       "      <td>Sichuan University</td>\n",
       "      <td>98.0</td>\n",
       "    </tr>\n",
       "    <tr>\n",
       "      <th>98</th>\n",
       "      <td>University of Helsinki</td>\n",
       "      <td>99.0</td>\n",
       "    </tr>\n",
       "    <tr>\n",
       "      <th>99</th>\n",
       "      <td>Purdue University - West Lafayette</td>\n",
       "      <td>100.0</td>\n",
       "    </tr>\n",
       "  </tbody>\n",
       "</table>\n",
       "</div>"
      ],
      "text/plain": [
       "                       University_Name   Rank\n",
       "95                 University of Basel   95.0\n",
       "96               University of Bristol   97.0\n",
       "97                  Sichuan University   98.0\n",
       "98              University of Helsinki   99.0\n",
       "99  Purdue University - West Lafayette  100.0"
      ]
     },
     "execution_count": 57,
     "metadata": {},
     "output_type": "execute_result"
    }
   ],
   "source": [
    "# 8) Which five universities rank lowest overall?\n",
    "bottom_5_universities = university_rank.tail(5)[['University_Name', 'Rank']]\n",
    "bottom_5_universities"
   ]
  }
 ],
 "metadata": {
  "kernelspec": {
   "display_name": "Python 3 (ipykernel)",
   "language": "python",
   "name": "python3"
  },
  "language_info": {
   "codemirror_mode": {
    "name": "ipython",
    "version": 3
   },
   "file_extension": ".py",
   "mimetype": "text/x-python",
   "name": "python",
   "nbconvert_exporter": "python",
   "pygments_lexer": "ipython3",
   "version": "3.11.5"
  }
 },
 "nbformat": 4,
 "nbformat_minor": 5
}
